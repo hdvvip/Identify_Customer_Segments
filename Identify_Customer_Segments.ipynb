{
 "cells": [
  {
   "cell_type": "markdown",
   "metadata": {},
   "source": [
    "# Project: Identify Customer Segments\n",
    "\n",
    "In this project, you will apply unsupervised learning techniques to identify segments of the population that form the core customer base for a mail-order sales company in Germany. These segments can then be used to direct marketing campaigns towards audiences that will have the highest expected rate of returns. The data that you will use has been provided by our partners at Bertelsmann Arvato Analytics, and represents a real-life data science task.\n",
    "\n",
    "This notebook will help you complete this task by providing a framework within which you will perform your analysis steps. In each step of the project, you will see some text describing the subtask that you will perform, followed by one or more code cells for you to complete your work. **Feel free to add additional code and markdown cells as you go along so that you can explore everything in precise chunks.** The code cells provided in the base template will outline only the major tasks, and will usually not be enough to cover all of the minor tasks that comprise it.\n",
    "\n",
    "It should be noted that while there will be precise guidelines on how you should handle certain tasks in the project, there will also be places where an exact specification is not provided. **There will be times in the project where you will need to make and justify your own decisions on how to treat the data.** These are places where there may not be only one way to handle the data. In real-life tasks, there may be many valid ways to approach an analysis task. One of the most important things you can do is clearly document your approach so that other scientists can understand the decisions you've made.\n",
    "\n",
    "At the end of most sections, there will be a Markdown cell labeled **Discussion**. In these cells, you will report your findings for the completed section, as well as document the decisions that you made in your approach to each subtask. **Your project will be evaluated not just on the code used to complete the tasks outlined, but also your communication about your observations and conclusions at each stage.**"
   ]
  },
  {
   "cell_type": "code",
   "execution_count": 1,
   "metadata": {},
   "outputs": [],
   "source": [
    "# import libraries here; add more as necessary\n",
    "import numpy as np\n",
    "import pandas as pd\n",
    "import matplotlib.pyplot as plt\n",
    "import seaborn as sns\n",
    "from sklearn.preprocessing import Imputer\n",
    "from sklearn.decomposition import PCA\n",
    "\n",
    "# magic word for producing visualizations in notebook\n",
    "%matplotlib inline\n",
    "\n"
   ]
  },
  {
   "cell_type": "markdown",
   "metadata": {},
   "source": [
    "### Step 0: Load the Data\n",
    "\n",
    "There are four files associated with this project (not including this one):\n",
    "\n",
    "- `Udacity_AZDIAS_Subset.csv`: Demographics data for the general population of Germany; 891211 persons (rows) x 85 features (columns).\n",
    "- `Udacity_CUSTOMERS_Subset.csv`: Demographics data for customers of a mail-order company; 191652 persons (rows) x 85 features (columns).\n",
    "- `Data_Dictionary.md`: Detailed information file about the features in the provided datasets.\n",
    "- `AZDIAS_Feature_Summary.csv`: Summary of feature attributes for demographics data; 85 features (rows) x 4 columns\n",
    "\n",
    "Each row of the demographics files represents a single person, but also includes information outside of individuals, including information about their household, building, and neighborhood. You will use this information to cluster the general population into groups with similar demographic properties. Then, you will see how the people in the customers dataset fit into those created clusters. The hope here is that certain clusters are over-represented in the customers data, as compared to the general population; those over-represented clusters will be assumed to be part of the core userbase. This information can then be used for further applications, such as targeting for a marketing campaign.\n",
    "\n",
    "To start off with, load in the demographics data for the general population into a pandas DataFrame, and do the same for the feature attributes summary. Note for all of the `.csv` data files in this project: they're semicolon (`;`) delimited, so you'll need an additional argument in your [`read_csv()`](https://pandas.pydata.org/pandas-docs/stable/generated/pandas.read_csv.html) call to read in the data properly. Also, considering the size of the main dataset, it may take some time for it to load completely.\n",
    "\n",
    "Once the dataset is loaded, it's recommended that you take a little bit of time just browsing the general structure of the dataset and feature summary file. You'll be getting deep into the innards of the cleaning in the first major step of the project, so gaining some general familiarity can help you get your bearings."
   ]
  },
  {
   "cell_type": "code",
   "execution_count": 2,
   "metadata": {},
   "outputs": [],
   "source": [
    "# Load in the general demographics data.\n",
    "azdias = pd.read_csv('Udacity_AZDIAS_Subset.csv', delimiter=';')\n",
    "\n",
    "# Load in the feature summary file.\n",
    "feat_info = pd.read_csv('AZDIAS_Feature_Summary.csv', delimiter=';')"
   ]
  },
  {
   "cell_type": "code",
   "execution_count": 3,
   "metadata": {},
   "outputs": [
    {
     "name": "stdout",
     "output_type": "stream",
     "text": [
      "(891221, 85)\n"
     ]
    },
    {
     "data": {
      "text/html": [
       "<div>\n",
       "<style scoped>\n",
       "    .dataframe tbody tr th:only-of-type {\n",
       "        vertical-align: middle;\n",
       "    }\n",
       "\n",
       "    .dataframe tbody tr th {\n",
       "        vertical-align: top;\n",
       "    }\n",
       "\n",
       "    .dataframe thead th {\n",
       "        text-align: right;\n",
       "    }\n",
       "</style>\n",
       "<table border=\"1\" class=\"dataframe\">\n",
       "  <thead>\n",
       "    <tr style=\"text-align: right;\">\n",
       "      <th></th>\n",
       "      <th>AGER_TYP</th>\n",
       "      <th>ALTERSKATEGORIE_GROB</th>\n",
       "      <th>ANREDE_KZ</th>\n",
       "      <th>CJT_GESAMTTYP</th>\n",
       "      <th>FINANZ_MINIMALIST</th>\n",
       "      <th>FINANZ_SPARER</th>\n",
       "      <th>FINANZ_VORSORGER</th>\n",
       "      <th>FINANZ_ANLEGER</th>\n",
       "      <th>FINANZ_UNAUFFAELLIGER</th>\n",
       "      <th>FINANZ_HAUSBAUER</th>\n",
       "      <th>...</th>\n",
       "      <th>PLZ8_ANTG1</th>\n",
       "      <th>PLZ8_ANTG2</th>\n",
       "      <th>PLZ8_ANTG3</th>\n",
       "      <th>PLZ8_ANTG4</th>\n",
       "      <th>PLZ8_BAUMAX</th>\n",
       "      <th>PLZ8_HHZ</th>\n",
       "      <th>PLZ8_GBZ</th>\n",
       "      <th>ARBEIT</th>\n",
       "      <th>ORTSGR_KLS9</th>\n",
       "      <th>RELAT_AB</th>\n",
       "    </tr>\n",
       "  </thead>\n",
       "  <tbody>\n",
       "    <tr>\n",
       "      <th>0</th>\n",
       "      <td>-1</td>\n",
       "      <td>2</td>\n",
       "      <td>1</td>\n",
       "      <td>2.0</td>\n",
       "      <td>3</td>\n",
       "      <td>4</td>\n",
       "      <td>3</td>\n",
       "      <td>5</td>\n",
       "      <td>5</td>\n",
       "      <td>3</td>\n",
       "      <td>...</td>\n",
       "      <td>NaN</td>\n",
       "      <td>NaN</td>\n",
       "      <td>NaN</td>\n",
       "      <td>NaN</td>\n",
       "      <td>NaN</td>\n",
       "      <td>NaN</td>\n",
       "      <td>NaN</td>\n",
       "      <td>NaN</td>\n",
       "      <td>NaN</td>\n",
       "      <td>NaN</td>\n",
       "    </tr>\n",
       "    <tr>\n",
       "      <th>1</th>\n",
       "      <td>-1</td>\n",
       "      <td>1</td>\n",
       "      <td>2</td>\n",
       "      <td>5.0</td>\n",
       "      <td>1</td>\n",
       "      <td>5</td>\n",
       "      <td>2</td>\n",
       "      <td>5</td>\n",
       "      <td>4</td>\n",
       "      <td>5</td>\n",
       "      <td>...</td>\n",
       "      <td>2.0</td>\n",
       "      <td>3.0</td>\n",
       "      <td>2.0</td>\n",
       "      <td>1.0</td>\n",
       "      <td>1.0</td>\n",
       "      <td>5.0</td>\n",
       "      <td>4.0</td>\n",
       "      <td>3.0</td>\n",
       "      <td>5.0</td>\n",
       "      <td>4.0</td>\n",
       "    </tr>\n",
       "    <tr>\n",
       "      <th>2</th>\n",
       "      <td>-1</td>\n",
       "      <td>3</td>\n",
       "      <td>2</td>\n",
       "      <td>3.0</td>\n",
       "      <td>1</td>\n",
       "      <td>4</td>\n",
       "      <td>1</td>\n",
       "      <td>2</td>\n",
       "      <td>3</td>\n",
       "      <td>5</td>\n",
       "      <td>...</td>\n",
       "      <td>3.0</td>\n",
       "      <td>3.0</td>\n",
       "      <td>1.0</td>\n",
       "      <td>0.0</td>\n",
       "      <td>1.0</td>\n",
       "      <td>4.0</td>\n",
       "      <td>4.0</td>\n",
       "      <td>3.0</td>\n",
       "      <td>5.0</td>\n",
       "      <td>2.0</td>\n",
       "    </tr>\n",
       "    <tr>\n",
       "      <th>3</th>\n",
       "      <td>2</td>\n",
       "      <td>4</td>\n",
       "      <td>2</td>\n",
       "      <td>2.0</td>\n",
       "      <td>4</td>\n",
       "      <td>2</td>\n",
       "      <td>5</td>\n",
       "      <td>2</td>\n",
       "      <td>1</td>\n",
       "      <td>2</td>\n",
       "      <td>...</td>\n",
       "      <td>2.0</td>\n",
       "      <td>2.0</td>\n",
       "      <td>2.0</td>\n",
       "      <td>0.0</td>\n",
       "      <td>1.0</td>\n",
       "      <td>3.0</td>\n",
       "      <td>4.0</td>\n",
       "      <td>2.0</td>\n",
       "      <td>3.0</td>\n",
       "      <td>3.0</td>\n",
       "    </tr>\n",
       "    <tr>\n",
       "      <th>4</th>\n",
       "      <td>-1</td>\n",
       "      <td>3</td>\n",
       "      <td>1</td>\n",
       "      <td>5.0</td>\n",
       "      <td>4</td>\n",
       "      <td>3</td>\n",
       "      <td>4</td>\n",
       "      <td>1</td>\n",
       "      <td>3</td>\n",
       "      <td>2</td>\n",
       "      <td>...</td>\n",
       "      <td>2.0</td>\n",
       "      <td>4.0</td>\n",
       "      <td>2.0</td>\n",
       "      <td>1.0</td>\n",
       "      <td>2.0</td>\n",
       "      <td>3.0</td>\n",
       "      <td>3.0</td>\n",
       "      <td>4.0</td>\n",
       "      <td>6.0</td>\n",
       "      <td>5.0</td>\n",
       "    </tr>\n",
       "  </tbody>\n",
       "</table>\n",
       "<p>5 rows × 85 columns</p>\n",
       "</div>"
      ],
      "text/plain": [
       "   AGER_TYP  ALTERSKATEGORIE_GROB  ANREDE_KZ  CJT_GESAMTTYP  \\\n",
       "0        -1                     2          1            2.0   \n",
       "1        -1                     1          2            5.0   \n",
       "2        -1                     3          2            3.0   \n",
       "3         2                     4          2            2.0   \n",
       "4        -1                     3          1            5.0   \n",
       "\n",
       "   FINANZ_MINIMALIST  FINANZ_SPARER  FINANZ_VORSORGER  FINANZ_ANLEGER  \\\n",
       "0                  3              4                 3               5   \n",
       "1                  1              5                 2               5   \n",
       "2                  1              4                 1               2   \n",
       "3                  4              2                 5               2   \n",
       "4                  4              3                 4               1   \n",
       "\n",
       "   FINANZ_UNAUFFAELLIGER  FINANZ_HAUSBAUER    ...     PLZ8_ANTG1  PLZ8_ANTG2  \\\n",
       "0                      5                 3    ...            NaN         NaN   \n",
       "1                      4                 5    ...            2.0         3.0   \n",
       "2                      3                 5    ...            3.0         3.0   \n",
       "3                      1                 2    ...            2.0         2.0   \n",
       "4                      3                 2    ...            2.0         4.0   \n",
       "\n",
       "   PLZ8_ANTG3  PLZ8_ANTG4  PLZ8_BAUMAX  PLZ8_HHZ  PLZ8_GBZ  ARBEIT  \\\n",
       "0         NaN         NaN          NaN       NaN       NaN     NaN   \n",
       "1         2.0         1.0          1.0       5.0       4.0     3.0   \n",
       "2         1.0         0.0          1.0       4.0       4.0     3.0   \n",
       "3         2.0         0.0          1.0       3.0       4.0     2.0   \n",
       "4         2.0         1.0          2.0       3.0       3.0     4.0   \n",
       "\n",
       "   ORTSGR_KLS9  RELAT_AB  \n",
       "0          NaN       NaN  \n",
       "1          5.0       4.0  \n",
       "2          5.0       2.0  \n",
       "3          3.0       3.0  \n",
       "4          6.0       5.0  \n",
       "\n",
       "[5 rows x 85 columns]"
      ]
     },
     "execution_count": 3,
     "metadata": {},
     "output_type": "execute_result"
    }
   ],
   "source": [
    "# Check the structure of the data after it's loaded (e.g. print the number of\n",
    "# rows and columns, print the first few rows).\n",
    "\n",
    "# Quick look for Udacity_AZDIAS_Subset.csv, Demographic Data\n",
    "print(azdias.shape)\n",
    "azdias.head()"
   ]
  },
  {
   "cell_type": "code",
   "execution_count": 4,
   "metadata": {},
   "outputs": [
    {
     "name": "stdout",
     "output_type": "stream",
     "text": [
      "(85, 4)\n"
     ]
    },
    {
     "data": {
      "text/html": [
       "<div>\n",
       "<style scoped>\n",
       "    .dataframe tbody tr th:only-of-type {\n",
       "        vertical-align: middle;\n",
       "    }\n",
       "\n",
       "    .dataframe tbody tr th {\n",
       "        vertical-align: top;\n",
       "    }\n",
       "\n",
       "    .dataframe thead th {\n",
       "        text-align: right;\n",
       "    }\n",
       "</style>\n",
       "<table border=\"1\" class=\"dataframe\">\n",
       "  <thead>\n",
       "    <tr style=\"text-align: right;\">\n",
       "      <th></th>\n",
       "      <th>attribute</th>\n",
       "      <th>information_level</th>\n",
       "      <th>type</th>\n",
       "      <th>missing_or_unknown</th>\n",
       "    </tr>\n",
       "  </thead>\n",
       "  <tbody>\n",
       "    <tr>\n",
       "      <th>0</th>\n",
       "      <td>AGER_TYP</td>\n",
       "      <td>person</td>\n",
       "      <td>categorical</td>\n",
       "      <td>[-1,0]</td>\n",
       "    </tr>\n",
       "    <tr>\n",
       "      <th>1</th>\n",
       "      <td>ALTERSKATEGORIE_GROB</td>\n",
       "      <td>person</td>\n",
       "      <td>ordinal</td>\n",
       "      <td>[-1,0,9]</td>\n",
       "    </tr>\n",
       "    <tr>\n",
       "      <th>2</th>\n",
       "      <td>ANREDE_KZ</td>\n",
       "      <td>person</td>\n",
       "      <td>categorical</td>\n",
       "      <td>[-1,0]</td>\n",
       "    </tr>\n",
       "    <tr>\n",
       "      <th>3</th>\n",
       "      <td>CJT_GESAMTTYP</td>\n",
       "      <td>person</td>\n",
       "      <td>categorical</td>\n",
       "      <td>[0]</td>\n",
       "    </tr>\n",
       "    <tr>\n",
       "      <th>4</th>\n",
       "      <td>FINANZ_MINIMALIST</td>\n",
       "      <td>person</td>\n",
       "      <td>ordinal</td>\n",
       "      <td>[-1]</td>\n",
       "    </tr>\n",
       "  </tbody>\n",
       "</table>\n",
       "</div>"
      ],
      "text/plain": [
       "              attribute information_level         type missing_or_unknown\n",
       "0              AGER_TYP            person  categorical             [-1,0]\n",
       "1  ALTERSKATEGORIE_GROB            person      ordinal           [-1,0,9]\n",
       "2             ANREDE_KZ            person  categorical             [-1,0]\n",
       "3         CJT_GESAMTTYP            person  categorical                [0]\n",
       "4     FINANZ_MINIMALIST            person      ordinal               [-1]"
      ]
     },
     "execution_count": 4,
     "metadata": {},
     "output_type": "execute_result"
    }
   ],
   "source": [
    "# Quick look for AZDIAS_Feature_Summary.csv, Feature summary of Demographic Data\n",
    "print(feat_info.shape)\n",
    "feat_info.head(5)\n"
   ]
  },
  {
   "cell_type": "markdown",
   "metadata": {},
   "source": [
    "> **Tip**: Add additional cells to keep everything in reasonably-sized chunks! Keyboard shortcut `esc --> a` (press escape to enter command mode, then press the 'A' key) adds a new cell before the active cell, and `esc --> b` adds a new cell after the active cell. If you need to convert an active cell to a markdown cell, use `esc --> m` and to convert to a code cell, use `esc --> y`. \n",
    "\n",
    "## Step 1: Preprocessing\n",
    "\n",
    "### Step 1.1: Assess Missing Data\n",
    "\n",
    "The feature summary file contains a summary of properties for each demographics data column. You will use this file to help you make cleaning decisions during this stage of the project. First of all, you should assess the demographics data in terms of missing data. Pay attention to the following points as you perform your analysis, and take notes on what you observe. Make sure that you fill in the **Discussion** cell with your findings and decisions at the end of each step that has one!\n",
    "\n",
    "#### Step 1.1.1: Convert Missing Value Codes to NaNs\n",
    "The fourth column of the feature attributes summary (loaded in above as `feat_info`) documents the codes from the data dictionary that indicate missing or unknown data. While the file encodes this as a list (e.g. `[-1,0]`), this will get read in as a string object. You'll need to do a little bit of parsing to make use of it to identify and clean the data. Convert data that matches a 'missing' or 'unknown' value code into a numpy NaN value. You might want to see how much data takes on a 'missing' or 'unknown' code, and how much data is naturally missing, as a point of interest.\n",
    "\n",
    "**As one more reminder, you are encouraged to add additional cells to break up your analysis into manageable chunks.**"
   ]
  },
  {
   "cell_type": "code",
   "execution_count": 10,
   "metadata": {
    "scrolled": true
   },
   "outputs": [
    {
     "name": "stdout",
     "output_type": "stream",
     "text": [
      "Natural missing: 4896838\n"
     ]
    }
   ],
   "source": [
    "print(f\"Natural missing: {azdias.isna().sum().sum()}\")"
   ]
  },
  {
   "cell_type": "code",
   "execution_count": 11,
   "metadata": {},
   "outputs": [],
   "source": [
    "def get_data_type(col_name):\n",
    "    \n",
    "    a = [int, float, str]\n",
    "    b = None\n",
    "    data_type = azdias[col_name].dtype\n",
    "\n",
    "    if (data_type == 'int'):\n",
    "        b = a[0]\n",
    "    elif (data_type == 'float'):\n",
    "        b = a[1]\n",
    "    else:\n",
    "        b = a[2]\n",
    "    \n",
    "    return b"
   ]
  },
  {
   "cell_type": "code",
   "execution_count": 12,
   "metadata": {},
   "outputs": [
    {
     "data": {
      "text/html": [
       "<div>\n",
       "<style scoped>\n",
       "    .dataframe tbody tr th:only-of-type {\n",
       "        vertical-align: middle;\n",
       "    }\n",
       "\n",
       "    .dataframe tbody tr th {\n",
       "        vertical-align: top;\n",
       "    }\n",
       "\n",
       "    .dataframe thead th {\n",
       "        text-align: right;\n",
       "    }\n",
       "</style>\n",
       "<table border=\"1\" class=\"dataframe\">\n",
       "  <thead>\n",
       "    <tr style=\"text-align: right;\">\n",
       "      <th></th>\n",
       "      <th>AGER_TYP</th>\n",
       "      <th>ALTERSKATEGORIE_GROB</th>\n",
       "      <th>ANREDE_KZ</th>\n",
       "      <th>CJT_GESAMTTYP</th>\n",
       "      <th>FINANZ_MINIMALIST</th>\n",
       "      <th>FINANZ_SPARER</th>\n",
       "      <th>FINANZ_VORSORGER</th>\n",
       "      <th>FINANZ_ANLEGER</th>\n",
       "      <th>FINANZ_UNAUFFAELLIGER</th>\n",
       "      <th>FINANZ_HAUSBAUER</th>\n",
       "      <th>...</th>\n",
       "      <th>PLZ8_ANTG1</th>\n",
       "      <th>PLZ8_ANTG2</th>\n",
       "      <th>PLZ8_ANTG3</th>\n",
       "      <th>PLZ8_ANTG4</th>\n",
       "      <th>PLZ8_BAUMAX</th>\n",
       "      <th>PLZ8_HHZ</th>\n",
       "      <th>PLZ8_GBZ</th>\n",
       "      <th>ARBEIT</th>\n",
       "      <th>ORTSGR_KLS9</th>\n",
       "      <th>RELAT_AB</th>\n",
       "    </tr>\n",
       "  </thead>\n",
       "  <tbody>\n",
       "    <tr>\n",
       "      <th>0</th>\n",
       "      <td>NaN</td>\n",
       "      <td>2.0</td>\n",
       "      <td>1</td>\n",
       "      <td>2.0</td>\n",
       "      <td>3</td>\n",
       "      <td>4</td>\n",
       "      <td>3</td>\n",
       "      <td>5</td>\n",
       "      <td>5</td>\n",
       "      <td>3</td>\n",
       "      <td>...</td>\n",
       "      <td>NaN</td>\n",
       "      <td>NaN</td>\n",
       "      <td>NaN</td>\n",
       "      <td>NaN</td>\n",
       "      <td>NaN</td>\n",
       "      <td>NaN</td>\n",
       "      <td>NaN</td>\n",
       "      <td>NaN</td>\n",
       "      <td>NaN</td>\n",
       "      <td>NaN</td>\n",
       "    </tr>\n",
       "    <tr>\n",
       "      <th>1</th>\n",
       "      <td>NaN</td>\n",
       "      <td>1.0</td>\n",
       "      <td>2</td>\n",
       "      <td>5.0</td>\n",
       "      <td>1</td>\n",
       "      <td>5</td>\n",
       "      <td>2</td>\n",
       "      <td>5</td>\n",
       "      <td>4</td>\n",
       "      <td>5</td>\n",
       "      <td>...</td>\n",
       "      <td>2.0</td>\n",
       "      <td>3.0</td>\n",
       "      <td>2.0</td>\n",
       "      <td>1.0</td>\n",
       "      <td>1.0</td>\n",
       "      <td>5.0</td>\n",
       "      <td>4.0</td>\n",
       "      <td>3.0</td>\n",
       "      <td>5.0</td>\n",
       "      <td>4.0</td>\n",
       "    </tr>\n",
       "    <tr>\n",
       "      <th>2</th>\n",
       "      <td>NaN</td>\n",
       "      <td>3.0</td>\n",
       "      <td>2</td>\n",
       "      <td>3.0</td>\n",
       "      <td>1</td>\n",
       "      <td>4</td>\n",
       "      <td>1</td>\n",
       "      <td>2</td>\n",
       "      <td>3</td>\n",
       "      <td>5</td>\n",
       "      <td>...</td>\n",
       "      <td>3.0</td>\n",
       "      <td>3.0</td>\n",
       "      <td>1.0</td>\n",
       "      <td>0.0</td>\n",
       "      <td>1.0</td>\n",
       "      <td>4.0</td>\n",
       "      <td>4.0</td>\n",
       "      <td>3.0</td>\n",
       "      <td>5.0</td>\n",
       "      <td>2.0</td>\n",
       "    </tr>\n",
       "    <tr>\n",
       "      <th>3</th>\n",
       "      <td>2.0</td>\n",
       "      <td>4.0</td>\n",
       "      <td>2</td>\n",
       "      <td>2.0</td>\n",
       "      <td>4</td>\n",
       "      <td>2</td>\n",
       "      <td>5</td>\n",
       "      <td>2</td>\n",
       "      <td>1</td>\n",
       "      <td>2</td>\n",
       "      <td>...</td>\n",
       "      <td>2.0</td>\n",
       "      <td>2.0</td>\n",
       "      <td>2.0</td>\n",
       "      <td>0.0</td>\n",
       "      <td>1.0</td>\n",
       "      <td>3.0</td>\n",
       "      <td>4.0</td>\n",
       "      <td>2.0</td>\n",
       "      <td>3.0</td>\n",
       "      <td>3.0</td>\n",
       "    </tr>\n",
       "    <tr>\n",
       "      <th>4</th>\n",
       "      <td>NaN</td>\n",
       "      <td>3.0</td>\n",
       "      <td>1</td>\n",
       "      <td>5.0</td>\n",
       "      <td>4</td>\n",
       "      <td>3</td>\n",
       "      <td>4</td>\n",
       "      <td>1</td>\n",
       "      <td>3</td>\n",
       "      <td>2</td>\n",
       "      <td>...</td>\n",
       "      <td>2.0</td>\n",
       "      <td>4.0</td>\n",
       "      <td>2.0</td>\n",
       "      <td>1.0</td>\n",
       "      <td>2.0</td>\n",
       "      <td>3.0</td>\n",
       "      <td>3.0</td>\n",
       "      <td>4.0</td>\n",
       "      <td>6.0</td>\n",
       "      <td>5.0</td>\n",
       "    </tr>\n",
       "  </tbody>\n",
       "</table>\n",
       "<p>5 rows × 85 columns</p>\n",
       "</div>"
      ],
      "text/plain": [
       "   AGER_TYP  ALTERSKATEGORIE_GROB  ANREDE_KZ  CJT_GESAMTTYP  \\\n",
       "0       NaN                   2.0          1            2.0   \n",
       "1       NaN                   1.0          2            5.0   \n",
       "2       NaN                   3.0          2            3.0   \n",
       "3       2.0                   4.0          2            2.0   \n",
       "4       NaN                   3.0          1            5.0   \n",
       "\n",
       "   FINANZ_MINIMALIST  FINANZ_SPARER  FINANZ_VORSORGER  FINANZ_ANLEGER  \\\n",
       "0                  3              4                 3               5   \n",
       "1                  1              5                 2               5   \n",
       "2                  1              4                 1               2   \n",
       "3                  4              2                 5               2   \n",
       "4                  4              3                 4               1   \n",
       "\n",
       "   FINANZ_UNAUFFAELLIGER  FINANZ_HAUSBAUER    ...     PLZ8_ANTG1  PLZ8_ANTG2  \\\n",
       "0                      5                 3    ...            NaN         NaN   \n",
       "1                      4                 5    ...            2.0         3.0   \n",
       "2                      3                 5    ...            3.0         3.0   \n",
       "3                      1                 2    ...            2.0         2.0   \n",
       "4                      3                 2    ...            2.0         4.0   \n",
       "\n",
       "   PLZ8_ANTG3  PLZ8_ANTG4  PLZ8_BAUMAX  PLZ8_HHZ  PLZ8_GBZ  ARBEIT  \\\n",
       "0         NaN         NaN          NaN       NaN       NaN     NaN   \n",
       "1         2.0         1.0          1.0       5.0       4.0     3.0   \n",
       "2         1.0         0.0          1.0       4.0       4.0     3.0   \n",
       "3         2.0         0.0          1.0       3.0       4.0     2.0   \n",
       "4         2.0         1.0          2.0       3.0       3.0     4.0   \n",
       "\n",
       "   ORTSGR_KLS9  RELAT_AB  \n",
       "0          NaN       NaN  \n",
       "1          5.0       4.0  \n",
       "2          5.0       2.0  \n",
       "3          3.0       3.0  \n",
       "4          6.0       5.0  \n",
       "\n",
       "[5 rows x 85 columns]"
      ]
     },
     "execution_count": 12,
     "metadata": {},
     "output_type": "execute_result"
    }
   ],
   "source": [
    "# Identify missing or unknown data values and convert them to NaNs.\n",
    "azdias_filled_na = azdias.copy()\n",
    "\n",
    "for i, col_name in enumerate(list(azdias_filled_na.columns)):\n",
    "    missing_or_unknown_values = feat_info['missing_or_unknown'][i]\n",
    "    missing_or_unknown_values_list = missing_or_unknown_values[1:-1].split(',')\n",
    "        \n",
    "    if(missing_or_unknown_values != '[]'):\n",
    "        data_type = get_data_type(col_name)\n",
    "        missing_or_unknown_values_list = list(map(data_type, missing_or_unknown_values_list))\n",
    "        azdias_filled_na[col_name].replace(missing_or_unknown_values_list, np.nan, inplace=True)                                     \n",
    "    \n",
    "azdias_filled_na.head()"
   ]
  },
  {
   "cell_type": "code",
   "execution_count": 13,
   "metadata": {},
   "outputs": [
    {
     "name": "stdout",
     "output_type": "stream",
     "text": [
      "After fill na missing: 8373929\n"
     ]
    }
   ],
   "source": [
    "print(f\"After fill na missing: {azdias_filled_na.isna().sum().sum()}\")"
   ]
  },
  {
   "cell_type": "markdown",
   "metadata": {},
   "source": [
    "#### Step 1.1.2: Assess Missing Data in Each Column\n",
    "\n",
    "How much missing data is present in each column? There are a few columns that are outliers in terms of the proportion of values that are missing. You will want to use matplotlib's [`hist()`](https://matplotlib.org/api/_as_gen/matplotlib.pyplot.hist.html) function to visualize the distribution of missing value counts to find these columns. Identify and document these columns. While some of these columns might have justifications for keeping or re-encoding the data, for this project you should just remove them from the dataframe. (Feel free to make remarks about these outlier columns in the discussion, however!)\n",
    "\n",
    "For the remaining features, are there any patterns in which columns have, or share, missing data?"
   ]
  },
  {
   "cell_type": "code",
   "execution_count": 14,
   "metadata": {},
   "outputs": [
    {
     "data": {
      "text/plain": [
       "AGER_TYP                0.769554\n",
       "ALTERSKATEGORIE_GROB    0.003233\n",
       "ANREDE_KZ               0.000000\n",
       "CJT_GESAMTTYP           0.005446\n",
       "FINANZ_MINIMALIST       0.000000\n",
       "dtype: float64"
      ]
     },
     "execution_count": 14,
     "metadata": {},
     "output_type": "execute_result"
    }
   ],
   "source": [
    "# Perform an assessment of how much missing data there is in each column of the\n",
    "# dataset.\n",
    "\n",
    "# list contain the percentage of missing values in each column of azdias_filled_na\n",
    "mis_percentages_col = []\n",
    "n_rows = azdias_filled_na.shape[0]\n",
    "\n",
    "mis_percentages_col = azdias_filled_na.isna().sum(axis=0) / n_rows\n",
    "mis_percentages_col[:5]"
   ]
  },
  {
   "cell_type": "code",
   "execution_count": 15,
   "metadata": {},
   "outputs": [
    {
     "data": {
      "text/plain": [
       "(array([ 32.,   7.,  37.,   3.,   0.,   0.,   1.,   0.,   1.,   0.,   1.,\n",
       "          0.,   0.,   1.,   0.,   1.,   0.,   0.,   0.,   1.]),\n",
       " array([ 0.        ,  0.04987882,  0.09975764,  0.14963645,  0.19951527,\n",
       "         0.24939409,  0.29927291,  0.34915173,  0.39903054,  0.44890936,\n",
       "         0.49878818,  0.548667  ,  0.59854582,  0.64842463,  0.69830345,\n",
       "         0.74818227,  0.79806109,  0.8479399 ,  0.89781872,  0.94769754,\n",
       "         0.99757636]),\n",
       " <a list of 20 Patch objects>)"
      ]
     },
     "execution_count": 15,
     "metadata": {},
     "output_type": "execute_result"
    },
    {
     "data": {
      "image/png": "[encoded data removed]",
      "text/plain": [
       "<matplotlib.figure.Figure at 0x7f175a1c56d8>"
      ]
     },
     "metadata": {
      "needs_background": "light"
     },
     "output_type": "display_data"
    }
   ],
   "source": [
    "# Investigate patterns in the amount of missing data in each column.\n",
    "plt.hist([mis_percentages_col], bins=20)"
   ]
  },
  {
   "cell_type": "code",
   "execution_count": 16,
   "metadata": {},
   "outputs": [
    {
     "data": {
      "text/html": [
       "<div>\n",
       "<style scoped>\n",
       "    .dataframe tbody tr th:only-of-type {\n",
       "        vertical-align: middle;\n",
       "    }\n",
       "\n",
       "    .dataframe tbody tr th {\n",
       "        vertical-align: top;\n",
       "    }\n",
       "\n",
       "    .dataframe thead th {\n",
       "        text-align: right;\n",
       "    }\n",
       "</style>\n",
       "<table border=\"1\" class=\"dataframe\">\n",
       "  <thead>\n",
       "    <tr style=\"text-align: right;\">\n",
       "      <th></th>\n",
       "      <th>ALTERSKATEGORIE_GROB</th>\n",
       "      <th>ANREDE_KZ</th>\n",
       "      <th>CJT_GESAMTTYP</th>\n",
       "      <th>FINANZ_MINIMALIST</th>\n",
       "      <th>FINANZ_SPARER</th>\n",
       "      <th>FINANZ_VORSORGER</th>\n",
       "      <th>FINANZ_ANLEGER</th>\n",
       "      <th>FINANZ_UNAUFFAELLIGER</th>\n",
       "      <th>FINANZ_HAUSBAUER</th>\n",
       "      <th>FINANZTYP</th>\n",
       "      <th>...</th>\n",
       "      <th>PLZ8_ANTG1</th>\n",
       "      <th>PLZ8_ANTG2</th>\n",
       "      <th>PLZ8_ANTG3</th>\n",
       "      <th>PLZ8_ANTG4</th>\n",
       "      <th>PLZ8_BAUMAX</th>\n",
       "      <th>PLZ8_HHZ</th>\n",
       "      <th>PLZ8_GBZ</th>\n",
       "      <th>ARBEIT</th>\n",
       "      <th>ORTSGR_KLS9</th>\n",
       "      <th>RELAT_AB</th>\n",
       "    </tr>\n",
       "  </thead>\n",
       "  <tbody>\n",
       "    <tr>\n",
       "      <th>0</th>\n",
       "      <td>2.0</td>\n",
       "      <td>1</td>\n",
       "      <td>2.0</td>\n",
       "      <td>3</td>\n",
       "      <td>4</td>\n",
       "      <td>3</td>\n",
       "      <td>5</td>\n",
       "      <td>5</td>\n",
       "      <td>3</td>\n",
       "      <td>4</td>\n",
       "      <td>...</td>\n",
       "      <td>NaN</td>\n",
       "      <td>NaN</td>\n",
       "      <td>NaN</td>\n",
       "      <td>NaN</td>\n",
       "      <td>NaN</td>\n",
       "      <td>NaN</td>\n",
       "      <td>NaN</td>\n",
       "      <td>NaN</td>\n",
       "      <td>NaN</td>\n",
       "      <td>NaN</td>\n",
       "    </tr>\n",
       "    <tr>\n",
       "      <th>1</th>\n",
       "      <td>1.0</td>\n",
       "      <td>2</td>\n",
       "      <td>5.0</td>\n",
       "      <td>1</td>\n",
       "      <td>5</td>\n",
       "      <td>2</td>\n",
       "      <td>5</td>\n",
       "      <td>4</td>\n",
       "      <td>5</td>\n",
       "      <td>1</td>\n",
       "      <td>...</td>\n",
       "      <td>2.0</td>\n",
       "      <td>3.0</td>\n",
       "      <td>2.0</td>\n",
       "      <td>1.0</td>\n",
       "      <td>1.0</td>\n",
       "      <td>5.0</td>\n",
       "      <td>4.0</td>\n",
       "      <td>3.0</td>\n",
       "      <td>5.0</td>\n",
       "      <td>4.0</td>\n",
       "    </tr>\n",
       "    <tr>\n",
       "      <th>2</th>\n",
       "      <td>3.0</td>\n",
       "      <td>2</td>\n",
       "      <td>3.0</td>\n",
       "      <td>1</td>\n",
       "      <td>4</td>\n",
       "      <td>1</td>\n",
       "      <td>2</td>\n",
       "      <td>3</td>\n",
       "      <td>5</td>\n",
       "      <td>1</td>\n",
       "      <td>...</td>\n",
       "      <td>3.0</td>\n",
       "      <td>3.0</td>\n",
       "      <td>1.0</td>\n",
       "      <td>0.0</td>\n",
       "      <td>1.0</td>\n",
       "      <td>4.0</td>\n",
       "      <td>4.0</td>\n",
       "      <td>3.0</td>\n",
       "      <td>5.0</td>\n",
       "      <td>2.0</td>\n",
       "    </tr>\n",
       "    <tr>\n",
       "      <th>3</th>\n",
       "      <td>4.0</td>\n",
       "      <td>2</td>\n",
       "      <td>2.0</td>\n",
       "      <td>4</td>\n",
       "      <td>2</td>\n",
       "      <td>5</td>\n",
       "      <td>2</td>\n",
       "      <td>1</td>\n",
       "      <td>2</td>\n",
       "      <td>6</td>\n",
       "      <td>...</td>\n",
       "      <td>2.0</td>\n",
       "      <td>2.0</td>\n",
       "      <td>2.0</td>\n",
       "      <td>0.0</td>\n",
       "      <td>1.0</td>\n",
       "      <td>3.0</td>\n",
       "      <td>4.0</td>\n",
       "      <td>2.0</td>\n",
       "      <td>3.0</td>\n",
       "      <td>3.0</td>\n",
       "    </tr>\n",
       "    <tr>\n",
       "      <th>4</th>\n",
       "      <td>3.0</td>\n",
       "      <td>1</td>\n",
       "      <td>5.0</td>\n",
       "      <td>4</td>\n",
       "      <td>3</td>\n",
       "      <td>4</td>\n",
       "      <td>1</td>\n",
       "      <td>3</td>\n",
       "      <td>2</td>\n",
       "      <td>5</td>\n",
       "      <td>...</td>\n",
       "      <td>2.0</td>\n",
       "      <td>4.0</td>\n",
       "      <td>2.0</td>\n",
       "      <td>1.0</td>\n",
       "      <td>2.0</td>\n",
       "      <td>3.0</td>\n",
       "      <td>3.0</td>\n",
       "      <td>4.0</td>\n",
       "      <td>6.0</td>\n",
       "      <td>5.0</td>\n",
       "    </tr>\n",
       "  </tbody>\n",
       "</table>\n",
       "<p>5 rows × 79 columns</p>\n",
       "</div>"
      ],
      "text/plain": [
       "   ALTERSKATEGORIE_GROB  ANREDE_KZ  CJT_GESAMTTYP  FINANZ_MINIMALIST  \\\n",
       "0                   2.0          1            2.0                  3   \n",
       "1                   1.0          2            5.0                  1   \n",
       "2                   3.0          2            3.0                  1   \n",
       "3                   4.0          2            2.0                  4   \n",
       "4                   3.0          1            5.0                  4   \n",
       "\n",
       "   FINANZ_SPARER  FINANZ_VORSORGER  FINANZ_ANLEGER  FINANZ_UNAUFFAELLIGER  \\\n",
       "0              4                 3               5                      5   \n",
       "1              5                 2               5                      4   \n",
       "2              4                 1               2                      3   \n",
       "3              2                 5               2                      1   \n",
       "4              3                 4               1                      3   \n",
       "\n",
       "   FINANZ_HAUSBAUER  FINANZTYP    ...     PLZ8_ANTG1  PLZ8_ANTG2  PLZ8_ANTG3  \\\n",
       "0                 3          4    ...            NaN         NaN         NaN   \n",
       "1                 5          1    ...            2.0         3.0         2.0   \n",
       "2                 5          1    ...            3.0         3.0         1.0   \n",
       "3                 2          6    ...            2.0         2.0         2.0   \n",
       "4                 2          5    ...            2.0         4.0         2.0   \n",
       "\n",
       "   PLZ8_ANTG4  PLZ8_BAUMAX  PLZ8_HHZ  PLZ8_GBZ  ARBEIT  ORTSGR_KLS9  RELAT_AB  \n",
       "0         NaN          NaN       NaN       NaN     NaN          NaN       NaN  \n",
       "1         1.0          1.0       5.0       4.0     3.0          5.0       4.0  \n",
       "2         0.0          1.0       4.0       4.0     3.0          5.0       2.0  \n",
       "3         0.0          1.0       3.0       4.0     2.0          3.0       3.0  \n",
       "4         1.0          2.0       3.0       3.0     4.0          6.0       5.0  \n",
       "\n",
       "[5 rows x 79 columns]"
      ]
     },
     "execution_count": 16,
     "metadata": {},
     "output_type": "execute_result"
    }
   ],
   "source": [
    "# Remove the outlier columns from the dataset. (You'll perform other data\n",
    "# engineering tasks such as re-encoding and imputation later.)\n",
    "\n",
    "# Splitting mis_percentages to two columns by threshold 0.2\n",
    "\n",
    "threshold = 0.2\n",
    "\n",
    "not_outlier_column_names = mis_percentages_col[mis_percentages_col <= threshold].index\n",
    "outlier_column_names = mis_percentages_col[mis_percentages_col > threshold].index\n",
    "        \n",
    "azdias_col_outlier_filtered = azdias_filled_na[not_outlier_column_names].copy()\n",
    "azdias_col_outlier_filtered.head()"
   ]
  },
  {
   "cell_type": "code",
   "execution_count": 17,
   "metadata": {},
   "outputs": [
    {
     "data": {
      "text/plain": [
       "Index(['AGER_TYP', 'GEBURTSJAHR', 'TITEL_KZ', 'ALTER_HH', 'KK_KUNDENTYP',\n",
       "       'KBA05_BAUMAX'],\n",
       "      dtype='object')"
      ]
     },
     "execution_count": 17,
     "metadata": {},
     "output_type": "execute_result"
    }
   ],
   "source": [
    "outlier_column_names"
   ]
  },
  {
   "cell_type": "markdown",
   "metadata": {},
   "source": [
    "#### Discussion 1.1.2: Assess Missing Data in Each Column\n",
    "\n",
    "(Double click this cell and replace this text with your own text, reporting your observations regarding the amount of missing data in each column. Are there any patterns in missing values? Which columns were removed from the dataset?)"
   ]
  },
  {
   "cell_type": "markdown",
   "metadata": {},
   "source": [
    "Missing pattern: 0% - 5%, 10% - 15%\n",
    "\n",
    "\n",
    "Decided to remove columns: have missing percentage > 20%\n",
    "\n",
    "\n",
    "Removed columns: ['AGER_TYP',\n",
    " 'GEBURTSJAHR',\n",
    " 'GREEN_AVANTGARDE',\n",
    " 'SHOPPER_TYP',\n",
    " 'SOHO_KZ',\n",
    " 'TITEL_KZ',\n",
    " 'ALTER_HH',\n",
    " 'ANZ_TITEL',\n",
    " 'KK_KUNDENTYP',\n",
    " 'ANZ_HH_TITEL',\n",
    " 'KBA05_ANTG1',\n",
    " 'KBA05_ANTG2',\n",
    " 'KBA05_ANTG3',\n",
    " 'KBA05_ANTG4',\n",
    " 'KBA05_BAUMAX',\n",
    " 'PLZ8_ANTG3',\n",
    " 'PLZ8_ANTG4']"
   ]
  },
  {
   "cell_type": "markdown",
   "metadata": {},
   "source": [
    "#### Step 1.1.3: Assess Missing Data in Each Row\n",
    "\n",
    "Now, you'll perform a similar assessment for the rows of the dataset. How much data is missing in each row? As with the columns, you should see some groups of points that have a very different numbers of missing values. Divide the data into two subsets: one for data points that are above some threshold for missing values, and a second subset for points below that threshold.\n",
    "\n",
    "In order to know what to do with the outlier rows, we should see if the distribution of data values on columns that are not missing data (or are missing very little data) are similar or different between the two groups. Select at least five of these columns and compare the distribution of values.\n",
    "- You can use seaborn's [`countplot()`](https://seaborn.pydata.org/generated/seaborn.countplot.html) function to create a bar chart of code frequencies and matplotlib's [`subplot()`](https://matplotlib.org/api/_as_gen/matplotlib.pyplot.subplot.html) function to put bar charts for the two subplots side by side.\n",
    "- To reduce repeated code, you might want to write a function that can perform this comparison, taking as one of its arguments a column to be compared.\n",
    "\n",
    "Depending on what you observe in your comparison, this will have implications on how you approach your conclusions later in the analysis. If the distributions of non-missing features look similar between the data with many missing values and the data with few or no missing values, then we could argue that simply dropping those points from the analysis won't present a major issue. On the other hand, if the data with many missing values looks very different from the data with few or no missing values, then we should make a note on those data as special. We'll revisit these data later on. **Either way, you should continue your analysis for now using just the subset of the data with few or no missing values.**"
   ]
  },
  {
   "cell_type": "code",
   "execution_count": 18,
   "metadata": {},
   "outputs": [
    {
     "data": {
      "text/plain": [
       "0    43\n",
       "1     0\n",
       "2     0\n",
       "3     7\n",
       "4     0\n",
       "dtype: int64"
      ]
     },
     "execution_count": 18,
     "metadata": {},
     "output_type": "execute_result"
    }
   ],
   "source": [
    "# How much data is missing in each row of the dataset?\n",
    "\n",
    "# list contain the percentage of missing values in each rows of azdias_col_outlier_filtered\n",
    "mis_percentages_row = []\n",
    "\n",
    "mis_percentages_row = azdias_col_outlier_filtered.isna().sum(axis=1)\n",
    "mis_percentages_row[:5]"
   ]
  },
  {
   "cell_type": "code",
   "execution_count": 19,
   "metadata": {},
   "outputs": [
    {
     "data": {
      "text/plain": [
       "(array([  6.38947000e+05,   2.79260000e+04,   1.76290000e+04,\n",
       "          1.26070000e+04,   3.62860000e+04,   1.37140000e+04,\n",
       "          2.45920000e+04,   3.04200000e+03,   6.53700000e+03,\n",
       "          7.66000000e+02,   3.25500000e+03,   2.24300000e+03,\n",
       "          4.74300000e+03,   3.18200000e+03,   4.28000000e+02,\n",
       "          1.18000000e+03,   3.49000000e+02,   2.79000000e+02,\n",
       "          1.32000000e+02,   6.90000000e+01,   5.50000000e+01,\n",
       "          5.90000000e+01,   2.90000000e+01,   1.20000000e+01,\n",
       "          6.00000000e+00,   3.00000000e+00,   3.19100000e+03,\n",
       "          1.08160000e+04,   3.91100000e+03,   8.40000000e+01,\n",
       "          5.38000000e+02,   4.98000000e+02,   1.37000000e+02,\n",
       "          3.56000000e+02,   2.10000000e+01,   2.75240000e+04,\n",
       "          4.94000000e+02,   0.00000000e+00,   4.55780000e+04,\n",
       "          3.00000000e+00]),\n",
       " array([  0.   ,   1.225,   2.45 ,   3.675,   4.9  ,   6.125,   7.35 ,\n",
       "          8.575,   9.8  ,  11.025,  12.25 ,  13.475,  14.7  ,  15.925,\n",
       "         17.15 ,  18.375,  19.6  ,  20.825,  22.05 ,  23.275,  24.5  ,\n",
       "         25.725,  26.95 ,  28.175,  29.4  ,  30.625,  31.85 ,  33.075,\n",
       "         34.3  ,  35.525,  36.75 ,  37.975,  39.2  ,  40.425,  41.65 ,\n",
       "         42.875,  44.1  ,  45.325,  46.55 ,  47.775,  49.   ]),\n",
       " <a list of 40 Patch objects>)"
      ]
     },
     "execution_count": 19,
     "metadata": {},
     "output_type": "execute_result"
    },
    {
     "data": {
      "image/png": "[encoded data removed]",
      "text/plain": [
       "<matplotlib.figure.Figure at 0x7f1742c06da0>"
      ]
     },
     "metadata": {
      "needs_background": "light"
     },
     "output_type": "display_data"
    }
   ],
   "source": [
    "plt.hist(mis_percentages_row, bins=40)"
   ]
  },
  {
   "cell_type": "code",
   "execution_count": 20,
   "metadata": {
    "scrolled": true
   },
   "outputs": [],
   "source": [
    "# Write code to divide the data into two subsets based on the number of missing\n",
    "# values in each row.\n",
    "\n",
    "# threshold: number of missing values allowed in each row\n",
    "\n",
    "threshold = 3\n",
    "\n",
    "rows_below_threshold_id = mis_percentages_row[mis_percentages_row <= threshold].index\n",
    "rows_above_threshold_id = mis_percentages_row[mis_percentages_row > threshold].index\n",
    "\n",
    "azdias_outlier_filtered = azdias_col_outlier_filtered.iloc[rows_below_threshold_id, :]\n",
    "azdias_outlier_rows = azdias_col_outlier_filtered.iloc[rows_above_threshold_id, :]"
   ]
  },
  {
   "cell_type": "code",
   "execution_count": 21,
   "metadata": {},
   "outputs": [
    {
     "data": {
      "text/plain": [
       "['ZABEOTYP', 'SEMIO_REL', 'SEMIO_MAT', 'SEMIO_VERT', 'SEMIO_LUST']"
      ]
     },
     "execution_count": 21,
     "metadata": {},
     "output_type": "execute_result"
    }
   ],
   "source": [
    "# In azdias_outlier_filtered, choose 5 columns which has the lowest mis_percentages_col\n",
    "\n",
    "threshold = 0.2\n",
    "not_outlier_column = mis_percentages_col[mis_percentages_col <= threshold]\n",
    "\n",
    "# Top 5 columns are not missing data (or are missing very little data)\n",
    "top = 5\n",
    "highest_not_mis_col_names = list(not_outlier_column.sort_values(ascending=True).index[:top])\n",
    "highest_not_mis_col_names"
   ]
  },
  {
   "cell_type": "code",
   "execution_count": 22,
   "metadata": {},
   "outputs": [
    {
     "data": {
      "image/png": "[encoded data removed]",
      "text/plain": [
       "<matplotlib.figure.Figure at 0x7f1744f31d68>"
      ]
     },
     "metadata": {
      "needs_background": "light"
     },
     "output_type": "display_data"
    },
    {
     "data": {
      "image/png": "[encoded data removed]",
      "text/plain": [
       "<matplotlib.figure.Figure at 0x7f173d9ffa20>"
      ]
     },
     "metadata": {
      "needs_background": "light"
     },
     "output_type": "display_data"
    },
    {
     "data": {
      "image/png": "[encoded data removed]",
      "text/plain": [
       "<matplotlib.figure.Figure at 0x7f173d937278>"
      ]
     },
     "metadata": {
      "needs_background": "light"
     },
     "output_type": "display_data"
    },
    {
     "data": {
      "image/png": "[encoded data removed]",
      "text/plain": [
       "<matplotlib.figure.Figure at 0x7f173d8b6358>"
      ]
     },
     "metadata": {
      "needs_background": "light"
     },
     "output_type": "display_data"
    },
    {
     "data": {
      "image/png": "[encoded data removed]",
      "text/plain": [
       "<matplotlib.figure.Figure at 0x7f173d7a3908>"
      ]
     },
     "metadata": {
      "needs_background": "light"
     },
     "output_type": "display_data"
    }
   ],
   "source": [
    "# Compare the distribution of values for at least five columns where there are\n",
    "# no or few missing values, between the two subsets.\n",
    "\n",
    "def compare_distribution(col_name):\n",
    "    \n",
    "    f = plt.figure(figsize=(9,4))\n",
    "\n",
    "    ax1 = f.add_subplot(1, 2, 1)\n",
    "    ax1 = sns.countplot(x=col_name, data = azdias_outlier_filtered)\n",
    "    ax1.set_xlabel(col_name + ' outiler_filtered')\n",
    "\n",
    "    ax2 = f.add_subplot(1, 2, 2)\n",
    "    ax2 = sns.countplot(x=col_name, data = azdias_outlier_rows)\n",
    "    ax2.set_xlabel(col_name + ' outiler')\n",
    "    \n",
    "\n",
    "    plt.tight_layout()\n",
    "\n",
    "for col_name in highest_not_mis_col_names:\n",
    "    compare_distribution(col_name)\n"
   ]
  },
  {
   "cell_type": "markdown",
   "metadata": {},
   "source": [
    "#### Discussion 1.1.3: Assess Missing Data in Each Row\n",
    "\n",
    "(Double-click this cell and replace this text with your own text, reporting your observations regarding missing data in rows. Are the data with lots of missing values are qualitatively different from data with few or no missing values?)\n",
    "\n",
    "Most of rows has number of missing data: <10 \n",
    "\n",
    "**Conclusion:**\n",
    "The data with lots of missing values are qualitatively different from data with few or no missing values\n"
   ]
  },
  {
   "cell_type": "markdown",
   "metadata": {},
   "source": [
    "### Step 1.2: Select and Re-Encode Features\n",
    "\n",
    "Checking for missing data isn't the only way in which you can prepare a dataset for analysis. Since the unsupervised learning techniques to be used will only work on data that is encoded numerically, you need to make a few encoding changes or additional assumptions to be able to make progress. In addition, while almost all of the values in the dataset are encoded using numbers, not all of them represent numeric values. Check the third column of the feature summary (`feat_info`) for a summary of types of measurement.\n",
    "- For numeric and interval data, these features can be kept without changes.\n",
    "- Most of the variables in the dataset are ordinal in nature. While ordinal values may technically be non-linear in spacing, make the simplifying assumption that the ordinal variables can be treated as being interval in nature (that is, kept without any changes).\n",
    "- Special handling may be necessary for the remaining two variable types: categorical, and 'mixed'.\n",
    "\n",
    "In the first two parts of this sub-step, you will perform an investigation of the categorical and mixed-type features and make a decision on each of them, whether you will keep, drop, or re-encode each. Then, in the last part, you will create a new data frame with only the selected and engineered columns.\n",
    "\n",
    "Data wrangling is often the trickiest part of the data analysis process, and there's a lot of it to be done here. But stick with it: once you're done with this step, you'll be ready to get to the machine learning parts of the project!"
   ]
  },
  {
   "cell_type": "code",
   "execution_count": 23,
   "metadata": {},
   "outputs": [
    {
     "data": {
      "text/plain": [
       "ordinal        49\n",
       "categorical    21\n",
       "mixed           7\n",
       "numeric         7\n",
       "interval        1\n",
       "Name: type, dtype: int64"
      ]
     },
     "execution_count": 23,
     "metadata": {},
     "output_type": "execute_result"
    }
   ],
   "source": [
    "# How many features are there of each data type?\n",
    "feat_info['type'].value_counts()"
   ]
  },
  {
   "cell_type": "markdown",
   "metadata": {},
   "source": [
    "#### Step 1.2.1: Re-Encode Categorical Features\n",
    "\n",
    "For categorical data, you would ordinarily need to encode the levels as dummy variables. Depending on the number of categories, perform one of the following:\n",
    "- For binary (two-level) categoricals that take numeric values, you can keep them without needing to do anything.\n",
    "- There is one binary variable that takes on non-numeric values. For this one, you need to re-encode the values as numbers or create a dummy variable.\n",
    "- For multi-level categoricals (three or more values), you can choose to encode the values using multiple dummy variables (e.g. via [OneHotEncoder](http://scikit-learn.org/stable/modules/generated/sklearn.preprocessing.OneHotEncoder.html)), or (to keep things straightforward) just drop them from the analysis. As always, document your choices in the Discussion section."
   ]
  },
  {
   "cell_type": "code",
   "execution_count": 24,
   "metadata": {},
   "outputs": [
    {
     "data": {
      "text/plain": [
       "(79, 4)"
      ]
     },
     "execution_count": 24,
     "metadata": {},
     "output_type": "execute_result"
    }
   ],
   "source": [
    "# Get feature info of only filltered columns \n",
    "feat_info_filtered_columns = feat_info[feat_info['attribute'].isin(list(azdias_outlier_filtered.columns))].copy()\n",
    "feat_info_filtered_columns.shape"
   ]
  },
  {
   "cell_type": "code",
   "execution_count": 25,
   "metadata": {},
   "outputs": [
    {
     "name": "stderr",
     "output_type": "stream",
     "text": [
      "/opt/conda/lib/python3.6/site-packages/ipykernel_launcher.py:5: UserWarning: Boolean Series key will be reindexed to match DataFrame index.\n",
      "  \"\"\"\n"
     ]
    },
    {
     "name": "stdout",
     "output_type": "stream",
     "text": [
      "Binary level Column: ANREDE_KZ,  [2, 1]\n",
      "Multi-level Column: CJT_GESAMTTYP,  [4.0, 3.0, 2.0, 5.0, 6.0, 1.0]\n",
      "Multi-level Column: FINANZTYP,  [6, 1, 5, 2, 4, 3]\n",
      "Multi-level Column: GFK_URLAUBERTYP,  [12.0, 10.0, 8.0, 11.0, 5.0, 4.0, 3.0, 9.0, 1.0, 7.0, 2.0, 6.0]\n",
      "Binary level Column: GREEN_AVANTGARDE,  [0, 1]\n",
      "Multi-level Column: LP_FAMILIE_FEIN,  [1.0, 10.0, 2.0, 11.0, 8.0, 7.0, 4.0, 5.0, 9.0, 6.0, 3.0]\n",
      "Multi-level Column: LP_FAMILIE_GROB,  [1.0, 5.0, 2.0, 4.0, 3.0]\n",
      "Multi-level Column: LP_STATUS_FEIN,  [1.0, 9.0, 10.0, 2.0, 4.0, 3.0, 6.0, 5.0, 8.0, 7.0]\n",
      "Multi-level Column: LP_STATUS_GROB,  [1.0, 2.0, 4.0, 5.0, 3.0]\n",
      "Multi-level Column: NATIONALITAET_KZ,  [1.0, 2.0, 3.0]\n",
      "Multi-level Column: SHOPPER_TYP,  [1.0, 2.0, 3.0, 0.0]\n",
      "Binary level Column: SOHO_KZ,  [0.0, 1.0]\n",
      "Binary level Column: VERS_TYP,  [2.0, 1.0]\n",
      "Multi-level Column: ZABEOTYP,  [3, 4, 1, 5, 6, 2]\n",
      "Multi-level Column: GEBAEUDETYP,  [1.0, 3.0, 8.0, 2.0, 4.0, 6.0, 5.0]\n",
      "Binary level Column: OST_WEST_KZ,  ['W', 'O']\n",
      "Multi-level Column: CAMEO_DEUG_2015,  ['8', '9', '6', '4', '2', '3', '7', '5', '1']\n",
      "Multi-level Column: CAMEO_DEU_2015,  ['6B', '8A', '4C', '2D', '3D', '3C', '7A', '8B', '4A', '8C', '9D', '9B', '9C', '7B', '9A', '2C', '8D', '6E', '2B', '5D', '6C', '2A', '1D', '1A', '5A', '5B', '5C', '7C', '4B', '4D', '6A', '3A', '3B', '6D', '9E', '6F', '4E', '7D', '1E', '7E', '1C', '5F', '1B', '5E']\n"
     ]
    }
   ],
   "source": [
    "# Assess categorical variables: which are binary, which are multi-level, and\n",
    "# which one needs to be re-encoded?\n",
    "\n",
    "# Get names of catgorical columns\n",
    "cate_col_names = feat_info_filtered_columns[feat_info['type'] == 'categorical']['attribute']\n",
    "\n",
    "# Multilevel columns needed encode\n",
    "en_needed_multi_cols = []\n",
    "\n",
    "# Binary columns needed encode:\n",
    "en_needed_bi_cols = []\n",
    "\n",
    "# print column name and its unique values\n",
    "for col_name in cate_col_names:\n",
    "    # number of unique values without na\n",
    "    list_unique_values = list(azdias_outlier_filtered[col_name].value_counts(dropna = True).index)\n",
    "    num_unique_values = len(list_unique_values)\n",
    "    \n",
    "    if (num_unique_values > 2):\n",
    "        en_needed_multi_cols.append(col_name)\n",
    "        print(f\"Multi-level Column: {col_name},  {list_unique_values}\")\n",
    "        \n",
    "    else:\n",
    "        # For binary columns, only encode if its elements are non-numeric\n",
    "        if (not isinstance(list_unique_values[0], (int, float))):\n",
    "            en_needed_bi_cols.append(col_name)\n",
    "\n",
    "        print(f\"Binary level Column: {col_name},  {list_unique_values}\")        "
   ]
  },
  {
   "cell_type": "code",
   "execution_count": 26,
   "metadata": {},
   "outputs": [
    {
     "name": "stdout",
     "output_type": "stream",
     "text": [
      "['CJT_GESAMTTYP', 'FINANZTYP', 'GFK_URLAUBERTYP', 'LP_FAMILIE_FEIN', 'LP_FAMILIE_GROB', 'LP_STATUS_FEIN', 'LP_STATUS_GROB', 'NATIONALITAET_KZ', 'SHOPPER_TYP', 'ZABEOTYP', 'GEBAEUDETYP', 'CAMEO_DEUG_2015', 'CAMEO_DEU_2015']\n",
      "['OST_WEST_KZ']\n"
     ]
    },
    {
     "data": {
      "text/plain": [
       "['CJT_GESAMTTYP',\n",
       " 'FINANZTYP',\n",
       " 'GFK_URLAUBERTYP',\n",
       " 'LP_FAMILIE_FEIN',\n",
       " 'LP_FAMILIE_GROB',\n",
       " 'LP_STATUS_FEIN',\n",
       " 'LP_STATUS_GROB',\n",
       " 'NATIONALITAET_KZ',\n",
       " 'SHOPPER_TYP',\n",
       " 'ZABEOTYP',\n",
       " 'GEBAEUDETYP',\n",
       " 'CAMEO_DEUG_2015',\n",
       " 'CAMEO_DEU_2015',\n",
       " 'OST_WEST_KZ']"
      ]
     },
     "execution_count": 26,
     "metadata": {},
     "output_type": "execute_result"
    }
   ],
   "source": [
    "print(en_needed_multi_cols)\n",
    "print(en_needed_bi_cols)\n",
    "\n",
    "# One hot columns:\n",
    "one_hot_columns = en_needed_multi_cols + en_needed_bi_cols\n",
    "one_hot_columns"
   ]
  },
  {
   "cell_type": "code",
   "execution_count": 27,
   "metadata": {},
   "outputs": [
    {
     "name": "stderr",
     "output_type": "stream",
     "text": [
      "/opt/conda/lib/python3.6/site-packages/ipykernel_launcher.py:7: SettingWithCopyWarning: \n",
      "A value is trying to be set on a copy of a slice from a DataFrame.\n",
      "Try using .loc[row_indexer,col_indexer] = value instead\n",
      "\n",
      "See the caveats in the documentation: http://pandas.pydata.org/pandas-docs/stable/indexing.html#indexing-view-versus-copy\n",
      "  import sys\n"
     ]
    },
    {
     "name": "stdout",
     "output_type": "stream",
     "text": [
      "Total new columns added: 102\n"
     ]
    }
   ],
   "source": [
    "# Re-encode categorical variable(s) to be kept in the analysis\n",
    "\n",
    "n_old_columns = azdias_outlier_filtered.shape[1]\n",
    "\n",
    "# Change type of one_hot_columns columns to category so later on can use pd.getdummies\n",
    "for col_name in one_hot_columns:\n",
    "    azdias_outlier_filtered[col_name] = azdias_outlier_filtered[col_name].astype('category')\n",
    "\n",
    "# Get dummies variable of one_hot_columns\n",
    "# drop first to avoid dummy trap\n",
    "one_hot_encoded_cols = pd.get_dummies(azdias_outlier_filtered[one_hot_columns], drop_first=True)\n",
    "\n",
    "# Drop old one_hot_columns\n",
    "azdias_one_hot_encoded = azdias_outlier_filtered.drop(labels = one_hot_columns, axis=1)\n",
    "\n",
    "# concat azdias_one_hot_encoded with dummies variable of multilevel_cols\n",
    "azdias_one_hot_encoded = pd.concat([azdias_one_hot_encoded, one_hot_encoded_cols], axis = 1)\n",
    "\n",
    "n_new_columns = azdias_one_hot_encoded.shape[1]\n",
    "\n",
    "print(f\"Total new columns added: {n_new_columns - n_old_columns}\")"
   ]
  },
  {
   "cell_type": "code",
   "execution_count": 29,
   "metadata": {},
   "outputs": [
    {
     "data": {
      "text/html": [
       "<div>\n",
       "<style scoped>\n",
       "    .dataframe tbody tr th:only-of-type {\n",
       "        vertical-align: middle;\n",
       "    }\n",
       "\n",
       "    .dataframe tbody tr th {\n",
       "        vertical-align: top;\n",
       "    }\n",
       "\n",
       "    .dataframe thead th {\n",
       "        text-align: right;\n",
       "    }\n",
       "</style>\n",
       "<table border=\"1\" class=\"dataframe\">\n",
       "  <thead>\n",
       "    <tr style=\"text-align: right;\">\n",
       "      <th></th>\n",
       "      <th>ALTERSKATEGORIE_GROB</th>\n",
       "      <th>ANREDE_KZ</th>\n",
       "      <th>FINANZ_MINIMALIST</th>\n",
       "      <th>FINANZ_SPARER</th>\n",
       "      <th>FINANZ_VORSORGER</th>\n",
       "      <th>FINANZ_ANLEGER</th>\n",
       "      <th>FINANZ_UNAUFFAELLIGER</th>\n",
       "      <th>FINANZ_HAUSBAUER</th>\n",
       "      <th>GREEN_AVANTGARDE</th>\n",
       "      <th>HEALTH_TYP</th>\n",
       "      <th>...</th>\n",
       "      <th>CAMEO_DEU_2015_8A</th>\n",
       "      <th>CAMEO_DEU_2015_8B</th>\n",
       "      <th>CAMEO_DEU_2015_8C</th>\n",
       "      <th>CAMEO_DEU_2015_8D</th>\n",
       "      <th>CAMEO_DEU_2015_9A</th>\n",
       "      <th>CAMEO_DEU_2015_9B</th>\n",
       "      <th>CAMEO_DEU_2015_9C</th>\n",
       "      <th>CAMEO_DEU_2015_9D</th>\n",
       "      <th>CAMEO_DEU_2015_9E</th>\n",
       "      <th>OST_WEST_KZ_W</th>\n",
       "    </tr>\n",
       "  </thead>\n",
       "  <tbody>\n",
       "    <tr>\n",
       "      <th>1</th>\n",
       "      <td>1.0</td>\n",
       "      <td>2</td>\n",
       "      <td>1</td>\n",
       "      <td>5</td>\n",
       "      <td>2</td>\n",
       "      <td>5</td>\n",
       "      <td>4</td>\n",
       "      <td>5</td>\n",
       "      <td>0</td>\n",
       "      <td>3.0</td>\n",
       "      <td>...</td>\n",
       "      <td>1</td>\n",
       "      <td>0</td>\n",
       "      <td>0</td>\n",
       "      <td>0</td>\n",
       "      <td>0</td>\n",
       "      <td>0</td>\n",
       "      <td>0</td>\n",
       "      <td>0</td>\n",
       "      <td>0</td>\n",
       "      <td>1</td>\n",
       "    </tr>\n",
       "    <tr>\n",
       "      <th>2</th>\n",
       "      <td>3.0</td>\n",
       "      <td>2</td>\n",
       "      <td>1</td>\n",
       "      <td>4</td>\n",
       "      <td>1</td>\n",
       "      <td>2</td>\n",
       "      <td>3</td>\n",
       "      <td>5</td>\n",
       "      <td>1</td>\n",
       "      <td>3.0</td>\n",
       "      <td>...</td>\n",
       "      <td>0</td>\n",
       "      <td>0</td>\n",
       "      <td>0</td>\n",
       "      <td>0</td>\n",
       "      <td>0</td>\n",
       "      <td>0</td>\n",
       "      <td>0</td>\n",
       "      <td>0</td>\n",
       "      <td>0</td>\n",
       "      <td>1</td>\n",
       "    </tr>\n",
       "    <tr>\n",
       "      <th>4</th>\n",
       "      <td>3.0</td>\n",
       "      <td>1</td>\n",
       "      <td>4</td>\n",
       "      <td>3</td>\n",
       "      <td>4</td>\n",
       "      <td>1</td>\n",
       "      <td>3</td>\n",
       "      <td>2</td>\n",
       "      <td>0</td>\n",
       "      <td>3.0</td>\n",
       "      <td>...</td>\n",
       "      <td>0</td>\n",
       "      <td>0</td>\n",
       "      <td>0</td>\n",
       "      <td>0</td>\n",
       "      <td>0</td>\n",
       "      <td>0</td>\n",
       "      <td>0</td>\n",
       "      <td>0</td>\n",
       "      <td>0</td>\n",
       "      <td>1</td>\n",
       "    </tr>\n",
       "    <tr>\n",
       "      <th>5</th>\n",
       "      <td>1.0</td>\n",
       "      <td>2</td>\n",
       "      <td>3</td>\n",
       "      <td>1</td>\n",
       "      <td>5</td>\n",
       "      <td>2</td>\n",
       "      <td>2</td>\n",
       "      <td>5</td>\n",
       "      <td>0</td>\n",
       "      <td>3.0</td>\n",
       "      <td>...</td>\n",
       "      <td>0</td>\n",
       "      <td>0</td>\n",
       "      <td>1</td>\n",
       "      <td>0</td>\n",
       "      <td>0</td>\n",
       "      <td>0</td>\n",
       "      <td>0</td>\n",
       "      <td>0</td>\n",
       "      <td>0</td>\n",
       "      <td>1</td>\n",
       "    </tr>\n",
       "    <tr>\n",
       "      <th>6</th>\n",
       "      <td>2.0</td>\n",
       "      <td>2</td>\n",
       "      <td>1</td>\n",
       "      <td>5</td>\n",
       "      <td>1</td>\n",
       "      <td>5</td>\n",
       "      <td>4</td>\n",
       "      <td>3</td>\n",
       "      <td>0</td>\n",
       "      <td>2.0</td>\n",
       "      <td>...</td>\n",
       "      <td>0</td>\n",
       "      <td>0</td>\n",
       "      <td>0</td>\n",
       "      <td>0</td>\n",
       "      <td>0</td>\n",
       "      <td>0</td>\n",
       "      <td>0</td>\n",
       "      <td>0</td>\n",
       "      <td>0</td>\n",
       "      <td>1</td>\n",
       "    </tr>\n",
       "  </tbody>\n",
       "</table>\n",
       "<p>5 rows × 181 columns</p>\n",
       "</div>"
      ],
      "text/plain": [
       "   ALTERSKATEGORIE_GROB  ANREDE_KZ  FINANZ_MINIMALIST  FINANZ_SPARER  \\\n",
       "1                   1.0          2                  1              5   \n",
       "2                   3.0          2                  1              4   \n",
       "4                   3.0          1                  4              3   \n",
       "5                   1.0          2                  3              1   \n",
       "6                   2.0          2                  1              5   \n",
       "\n",
       "   FINANZ_VORSORGER  FINANZ_ANLEGER  FINANZ_UNAUFFAELLIGER  FINANZ_HAUSBAUER  \\\n",
       "1                 2               5                      4                 5   \n",
       "2                 1               2                      3                 5   \n",
       "4                 4               1                      3                 2   \n",
       "5                 5               2                      2                 5   \n",
       "6                 1               5                      4                 3   \n",
       "\n",
       "   GREEN_AVANTGARDE  HEALTH_TYP      ...        CAMEO_DEU_2015_8A  \\\n",
       "1                 0         3.0      ...                        1   \n",
       "2                 1         3.0      ...                        0   \n",
       "4                 0         3.0      ...                        0   \n",
       "5                 0         3.0      ...                        0   \n",
       "6                 0         2.0      ...                        0   \n",
       "\n",
       "   CAMEO_DEU_2015_8B  CAMEO_DEU_2015_8C  CAMEO_DEU_2015_8D  CAMEO_DEU_2015_9A  \\\n",
       "1                  0                  0                  0                  0   \n",
       "2                  0                  0                  0                  0   \n",
       "4                  0                  0                  0                  0   \n",
       "5                  0                  1                  0                  0   \n",
       "6                  0                  0                  0                  0   \n",
       "\n",
       "   CAMEO_DEU_2015_9B  CAMEO_DEU_2015_9C  CAMEO_DEU_2015_9D  CAMEO_DEU_2015_9E  \\\n",
       "1                  0                  0                  0                  0   \n",
       "2                  0                  0                  0                  0   \n",
       "4                  0                  0                  0                  0   \n",
       "5                  0                  0                  0                  0   \n",
       "6                  0                  0                  0                  0   \n",
       "\n",
       "   OST_WEST_KZ_W  \n",
       "1              1  \n",
       "2              1  \n",
       "4              1  \n",
       "5              1  \n",
       "6              1  \n",
       "\n",
       "[5 rows x 181 columns]"
      ]
     },
     "execution_count": 29,
     "metadata": {},
     "output_type": "execute_result"
    }
   ],
   "source": [
    "azdias_one_hot_encoded.head()"
   ]
  },
  {
   "cell_type": "markdown",
   "metadata": {},
   "source": [
    "#### Discussion 1.2.1: Re-Encode Categorical Features\n",
    "\n",
    "(Double-click this cell and replace this text with your own text, reporting your findings and decisions regarding categorical features. Which ones did you keep, which did you drop, and what engineering steps did you perform?)\n",
    "\n",
    "1. I get new feat_info_filtered_columns, which is feat_info of columns after being filtered at step 1.1.2\n",
    "2. I get binary and mutilevel categorical columns and put in: en_needed_bi_cols, en_needed_multi_cols, respectively\n",
    "3. I put all of columns needed to do one-hot-encoding in a list: one_hot_columns = en_needed_bi_cols + en_needed_multi_cols\n",
    "4. I convert one_hot_columns data type to 'category' so later on I can use pd.get_dummies to do one-hot encoding on one_hot_columns\n",
    "5. I do one-hot encoding and put those columns in: one_hot_encoded_cols\n",
    "6. Drop all one_hot_columns columns from azdias_outlier_filtered --> create new dataframe: azdias_one_hot_encoded\n",
    "7. Concatenation azdias_one_hot_encoded with one_hot_encoded_cols\n",
    "8. Report **azdias_one_hot_encoded** as final dataframe after Re-Encode Categorical Features"
   ]
  },
  {
   "cell_type": "markdown",
   "metadata": {},
   "source": [
    "#### Step 1.2.2: Engineer Mixed-Type Features\n",
    "\n",
    "There are a handful of features that are marked as \"mixed\" in the feature summary that require special treatment in order to be included in the analysis. There are two in particular that deserve attention; the handling of the rest are up to your own choices:\n",
    "- \"PRAEGENDE_JUGENDJAHRE\" combines information on three dimensions: generation by decade, movement (mainstream vs. avantgarde), and nation (east vs. west). While there aren't enough levels to disentangle east from west, you should create two new variables to capture the other two dimensions: an interval-type variable for decade, and a binary variable for movement.\n",
    "- \"CAMEO_INTL_2015\" combines information on two axes: wealth and life stage. Break up the two-digit codes by their 'tens'-place and 'ones'-place digits into two new ordinal variables (which, for the purposes of this project, is equivalent to just treating them as their raw numeric values).\n",
    "- If you decide to keep or engineer new features around the other mixed-type features, make sure you note your steps in the Discussion section.\n",
    "\n",
    "Be sure to check `Data_Dictionary.md` for the details needed to finish these tasks."
   ]
  },
  {
   "cell_type": "markdown",
   "metadata": {},
   "source": [
    "### 1.18. PRAEGENDE_JUGENDJAHRE\n",
    "Dominating movement of person's youth (avantgarde vs. mainstream; east vs. west)\n",
    "- -1: unknown\n",
    "-  0: unknown\n",
    "-  1: 40s - war years (Mainstream, E+W)\n",
    "-  2: 40s - reconstruction years (Avantgarde, E+W)\n",
    "-  3: 50s - economic miracle (Mainstream, E+W)\n",
    "-  4: 50s - milk bar / Individualisation (Avantgarde, E+W)\n",
    "-  5: 60s - economic miracle (Mainstream, E+W)\n",
    "-  6: 60s - generation 68 / student protestors (Avantgarde, W)\n",
    "-  7: 60s - opponents to the building of the Wall (Avantgarde, E)\n",
    "-  8: 70s - family orientation (Mainstream, E+W)\n",
    "-  9: 70s - peace movement (Avantgarde, E+W)\n",
    "- 10: 80s - Generation Golf (Mainstream, W)\n",
    "- 11: 80s - ecological awareness (Avantgarde, W)\n",
    "- 12: 80s - FDJ / communist party youth organisation (Mainstream, E)\n",
    "- 13: 80s - Swords into ploughshares (Avantgarde, E)\n",
    "- 14: 90s - digital media kids (Mainstream, E+W)\n",
    "- 15: 90s - ecological awareness (Avantgarde, E+W)"
   ]
  },
  {
   "cell_type": "code",
   "execution_count": 30,
   "metadata": {},
   "outputs": [
    {
     "data": {
      "text/plain": [
       "1    14.0\n",
       "2    15.0\n",
       "4     8.0\n",
       "5     3.0\n",
       "6    10.0\n",
       "Name: PRAEGENDE_JUGENDJAHRE, dtype: float64"
      ]
     },
     "execution_count": 30,
     "metadata": {},
     "output_type": "execute_result"
    }
   ],
   "source": [
    "azdias_one_hot_encoded['PRAEGENDE_JUGENDJAHRE'][:5]"
   ]
  },
  {
   "cell_type": "code",
   "execution_count": 31,
   "metadata": {},
   "outputs": [],
   "source": [
    "n_rows = azdias_one_hot_encoded.shape[0]\n",
    "\n",
    "PRAEGENDE_JUGENDJAHRE_decade_convert = [40, 40, 50, 50, 60, 60, 60, 70, 70, 80, 80, 80, 80, 90, 90]\n",
    "PRAEGENDE_JUGENDJAHRE_decade_boolean = [True] * n_rows\n",
    "\n",
    "# 0: Mainstream\n",
    "# 1: Avantgarde\n",
    "PRAEGENDE_JUGENDJAHRE_movement_convert = [0, 1, 0, 1, 0, 1, 1, 0, 1, 0, 1, 0, 1, 0, 1]\n",
    "PRAEGENDE_JUGENDJAHRE_movement_boolean = [False] * n_rows"
   ]
  },
  {
   "cell_type": "code",
   "execution_count": 32,
   "metadata": {},
   "outputs": [],
   "source": [
    "# Investigate \"PRAEGENDE_JUGENDJAHRE\" and engineer two new variables.\n",
    "# you should create two new variables to capture the other two dimensions:\n",
    "# an interval-type variable for decade, and a binary variable for movement.\n",
    "def get_convert_value_PRA(num, isDecade):\n",
    "    if(np.isnan(num)):\n",
    "        return np.nan\n",
    "    num = int(num)\n",
    "    if (isDecade):\n",
    "        return PRAEGENDE_JUGENDJAHRE_decade_convert[num-1]\n",
    "    else:\n",
    "        return PRAEGENDE_JUGENDJAHRE_movement_convert[num-1]\n",
    "\n",
    "azdias_one_hot_encoded['PRAEGENDE_JUGENDJAHRE_decade'] = list(map(get_convert_value_PRA, \\\n",
    "                                                                  azdias_one_hot_encoded['PRAEGENDE_JUGENDJAHRE'],\\\n",
    "                                                                  PRAEGENDE_JUGENDJAHRE_decade_boolean))\n",
    "\n",
    "azdias_one_hot_encoded['PRAEGENDE_JUGENDJAHRE_movement'] = list(map(get_convert_value_PRA, \\\n",
    "                                                                    azdias_one_hot_encoded['PRAEGENDE_JUGENDJAHRE'], \\\n",
    "                                                                    PRAEGENDE_JUGENDJAHRE_movement_boolean))"
   ]
  },
  {
   "cell_type": "markdown",
   "metadata": {},
   "source": [
    "### 4.3. CAMEO_INTL_2015\n",
    "German CAMEO: Wealth / Life Stage Typology, mapped to international code\n",
    "- -1: unknown\n",
    "- 11: Wealthy Households - Pre-Family Couples & Singles\n",
    "- 12: Wealthy Households - Young Couples With Children\n",
    "- 13: Wealthy Households - Families With School Age Children\n",
    "- 14: Wealthy Households - Older Families &  Mature Couples\n",
    "- 15: Wealthy Households - Elders In Retirement\n",
    "- 21: Prosperous Households - Pre-Family Couples & Singles\n",
    "- 22: Prosperous Households - Young Couples With Children\n",
    "- 23: Prosperous Households - Families With School Age Children\n",
    "- 24: Prosperous Households - Older Families & Mature Couples\n",
    "- 25: Prosperous Households - Elders In Retirement\n",
    "- 31: Comfortable Households - Pre-Family Couples & Singles\n",
    "- 32: Comfortable Households - Young Couples With Children\n",
    "- 33: Comfortable Households - Families With School Age Children\n",
    "- 34: Comfortable Households - Older Families & Mature Couples\n",
    "- 35: Comfortable Households - Elders In Retirement\n",
    "- 41: Less Affluent Households - Pre-Family Couples & Singles\n",
    "- 42: Less Affluent Households - Young Couples With Children\n",
    "- 43: Less Affluent Households - Families With School Age Children\n",
    "- 44: Less Affluent Households - Older Families & Mature Couples\n",
    "- 45: Less Affluent Households - Elders In Retirement\n",
    "- 51: Poorer Households - Pre-Family Couples & Singles\n",
    "- 52: Poorer Households - Young Couples With Children\n",
    "- 53: Poorer Households - Families With School Age Children\n",
    "- 54: Poorer Households - Older Families & Mature Couples\n",
    "- 55: Poorer Households - Elders In Retirement\n",
    "- XX: unknown"
   ]
  },
  {
   "cell_type": "code",
   "execution_count": 33,
   "metadata": {
    "scrolled": true
   },
   "outputs": [
    {
     "data": {
      "text/plain": [
       "1    51\n",
       "2    24\n",
       "4    43\n",
       "5    54\n",
       "6    22\n",
       "Name: CAMEO_INTL_2015, dtype: object"
      ]
     },
     "execution_count": 33,
     "metadata": {},
     "output_type": "execute_result"
    }
   ],
   "source": [
    "azdias_one_hot_encoded['CAMEO_INTL_2015'][:5]"
   ]
  },
  {
   "cell_type": "code",
   "execution_count": 34,
   "metadata": {},
   "outputs": [],
   "source": [
    "n_rows = azdias_one_hot_encoded.shape[0]\n",
    "\n",
    "CAMEO_INTL_2015_wealth_convert = [1, 2, 3, 4, 5]\n",
    "CAMEO_INTL_2015_wealth_boolean = [True] * n_rows\n",
    "\n",
    "CAMEO_INTL_2015_lifestage_convert = [1, 2, 3, 4, 5]\n",
    "CAMEO_INTL_2015_lifestage_boolean = [False] * n_rows"
   ]
  },
  {
   "cell_type": "code",
   "execution_count": 35,
   "metadata": {},
   "outputs": [],
   "source": [
    "# Investigate \"CAMEO_INTL_2015\" and engineer two new variables.\n",
    "# Break up the two-digit codes by their 'tens'-place and 'ones'-place digits into two new ordinal variables \n",
    "# (which, for the purposes of this project, is equivalent to just treating them as their raw numeric values).\n",
    "def get_convert_value_CAMEO(num, isWealth):\n",
    "    if(np.isnan(num)):\n",
    "        return np.nan\n",
    "    num = int(num)\n",
    "    if (isWealth):\n",
    "        num = int(num/10)\n",
    "        return CAMEO_INTL_2015_wealth_convert[num-1]\n",
    "    else:\n",
    "        num = int(num%5)\n",
    "        return CAMEO_INTL_2015_lifestage_convert[num-1]\n",
    "    \n",
    "# Convert CAMEO_INTL_2015 from category to float\n",
    "# Avoid np.isnan in get_convert_value_CAMEO failed with object data type\n",
    "azdias_one_hot_encoded['CAMEO_INTL_2015'] = azdias_one_hot_encoded['CAMEO_INTL_2015'].astype('float')\n",
    "\n",
    "azdias_one_hot_encoded['CAMEO_INTL_2015_wealth'] = list(map(get_convert_value_CAMEO, \\\n",
    "                                                                  azdias_one_hot_encoded['CAMEO_INTL_2015'],\\\n",
    "                                                                  CAMEO_INTL_2015_wealth_boolean))\n",
    "\n",
    "azdias_one_hot_encoded['CAMEO_INTL_2015_lifestage'] = list(map(get_convert_value_CAMEO, \\\n",
    "                                                                    azdias_one_hot_encoded['CAMEO_INTL_2015'], \\\n",
    "                                                                    CAMEO_INTL_2015_lifestage_boolean))"
   ]
  },
  {
   "cell_type": "markdown",
   "metadata": {},
   "source": [
    "#### Discussion 1.2.2: Engineer Mixed-Type Features\n",
    "\n",
    "(Double-click this cell and replace this text with your own text, reporting your findings and decisions regarding mixed-value features. Which ones did you keep, which did you drop, and what engineering steps did you perform?)\n",
    "\n",
    "**PRAEGENDE_JUGENDJAHRE:**\n",
    "- I create two new variables: PRAEGENDE_JUGENDJAHRE_decade, and PRAEGENDE_JUGENDJAHRE_movement\n",
    "- PRAEGENDE_JUGENDJAHRE_decade is interval-variable with values: 40, 50, 60, 60, 80, 90\n",
    "- PRAEGENDE_JUGENDJAHRE_movement is binary variable with 0: Mainstream, 1: Avantgarde\n",
    "- I create a function get_convert_value_PRA to return convert values of PRAEGENDE_JUGENDJAHRE column\n",
    "- Map get_convert_value_PRA with PRAEGENDE_JUGENDJAHRE to create new variable\n",
    "\n",
    "**CAMEO_INTL_2015:**\n",
    "- I create two new variables: CAMEO_INTL_2015_wealth, and CAMEO_INTL_2015_lifestage\n",
    "- CAMEO_INTL_2015_wealth is ordinal variables with values: 1, 2, 3, 4, 5\n",
    "- CAMEO_INTL_2015_lifestage is ordinal variables with value: 1, 2, 3, 4, 5\n",
    "- I create a function get_convert_value_CAMEO to return convert values of CAMEO_INTL_2015 column\n",
    "- However, before mapping, I convert CAMEO_INTL_2015 from object to floar data type\n",
    "- Because function np.isnan() fail on object datatype 'nan'\n",
    "- Map get_convert_value_CAMEO with CAMEO_INTL_2015 to create new variable"
   ]
  },
  {
   "cell_type": "markdown",
   "metadata": {},
   "source": [
    "#### Step 1.2.3: Complete Feature Selection\n",
    "\n",
    "In order to finish this step up, you need to make sure that your data frame now only has the columns that you want to keep. To summarize, the dataframe should consist of the following:\n",
    "- All numeric, interval, and ordinal type columns from the original dataset.\n",
    "- Binary categorical features (all numerically-encoded).\n",
    "- Engineered features from other multi-level categorical features and mixed features.\n",
    "\n",
    "Make sure that for any new columns that you have engineered, that you've excluded the original columns from the final dataset. Otherwise, their values will interfere with the analysis later on the project. For example, you should not keep \"PRAEGENDE_JUGENDJAHRE\", since its values won't be useful for the algorithm: only the values derived from it in the engineered features you created should be retained. As a reminder, your data should only be from **the subset with few or no missing values**."
   ]
  },
  {
   "cell_type": "code",
   "execution_count": 36,
   "metadata": {},
   "outputs": [],
   "source": [
    "# If there are other re-engineering tasks you need to perform, make sure you\n",
    "# take care of them here. (Dealing with missing data will come in step 2.1.)\n",
    "\n",
    "# Drop original columns after engineering\n",
    "azdias_one_hot_encoded.drop(labels=['PRAEGENDE_JUGENDJAHRE', 'CAMEO_INTL_2015'], axis=1, inplace=True)"
   ]
  },
  {
   "cell_type": "code",
   "execution_count": 37,
   "metadata": {},
   "outputs": [],
   "source": [
    "# Do whatever you need to in order to ensure that the dataframe only contains\n",
    "# the columns that should be passed to the algorithm functions.\n"
   ]
  },
  {
   "cell_type": "markdown",
   "metadata": {},
   "source": [
    "#### Checking missing percentages of rows and columns"
   ]
  },
  {
   "cell_type": "code",
   "execution_count": 38,
   "metadata": {},
   "outputs": [
    {
     "data": {
      "text/plain": [
       "REGIOTYP                          0.055991\n",
       "KKK                               0.055991\n",
       "W_KEIT_KIND_HH                    0.026409\n",
       "PRAEGENDE_JUGENDJAHRE_movement    0.009928\n",
       "PRAEGENDE_JUGENDJAHRE_decade      0.009928\n",
       "dtype: float64"
      ]
     },
     "execution_count": 38,
     "metadata": {},
     "output_type": "execute_result"
    }
   ],
   "source": [
    "# Check pecentage of missing values in each column\n",
    "# Get top 5 missing\n",
    "(azdias_one_hot_encoded.isna().sum(axis=0) / azdias_one_hot_encoded.shape[0]).sort_values(ascending=False)[:5]"
   ]
  },
  {
   "cell_type": "code",
   "execution_count": 39,
   "metadata": {},
   "outputs": [
    {
     "data": {
      "text/plain": [
       "734760    0.021858\n",
       "492616    0.021858\n",
       "170656    0.021858\n",
       "436950    0.021858\n",
       "497730    0.021858\n",
       "dtype: float64"
      ]
     },
     "execution_count": 39,
     "metadata": {},
     "output_type": "execute_result"
    }
   ],
   "source": [
    "# Check pecentage of missing values in each row\n",
    "# Get top 5 missing\n",
    "(azdias_one_hot_encoded.isna().sum(axis=1) / azdias_one_hot_encoded.shape[1]).sort_values(ascending=False)[:5]"
   ]
  },
  {
   "cell_type": "markdown",
   "metadata": {},
   "source": [
    ">**Maximum missing:**\n",
    "Columns: 5%,\n",
    "Rows: 2%"
   ]
  },
  {
   "cell_type": "markdown",
   "metadata": {},
   "source": [
    "#### Check the data types of all columns"
   ]
  },
  {
   "cell_type": "code",
   "execution_count": 40,
   "metadata": {
    "scrolled": true
   },
   "outputs": [
    {
     "data": {
      "text/plain": [
       "uint8      116\n",
       "float64     45\n",
       "int64       22\n",
       "dtype: int64"
      ]
     },
     "execution_count": 40,
     "metadata": {},
     "output_type": "execute_result"
    }
   ],
   "source": [
    "azdias_one_hot_encoded.dtypes.value_counts()"
   ]
  },
  {
   "cell_type": "markdown",
   "metadata": {},
   "source": [
    ">**Data type:** all stay in numerical form"
   ]
  },
  {
   "cell_type": "markdown",
   "metadata": {},
   "source": [
    "### Step 1.3: Create a Cleaning Function\n",
    "\n",
    "Even though you've finished cleaning up the general population demographics data, it's important to look ahead to the future and realize that you'll need to perform the same cleaning steps on the customer demographics data. In this substep, complete the function below to execute the main feature selection, encoding, and re-engineering steps you performed above. Then, when it comes to looking at the customer data in Step 3, you can just run this function on that DataFrame to get the trimmed dataset in a single step."
   ]
  },
  {
   "cell_type": "code",
   "execution_count": 41,
   "metadata": {},
   "outputs": [],
   "source": [
    "def clean_data(df):\n",
    "    \"\"\"\n",
    "    Perform feature trimming, re-encoding, and engineering for demographics\n",
    "    data\n",
    "    \n",
    "    INPUT: Demographics DataFrame\n",
    "    OUTPUT: Trimmed and cleaned demographics DataFrame\n",
    "    \"\"\"\n",
    "    \n",
    "    # Put in code here to execute all main cleaning steps:\n",
    "    # convert missing value codes into NaNs, ...\n",
    "    def get_data_type(col_name):\n",
    "    \n",
    "        a = [int, float, str]\n",
    "        b = None\n",
    "        data_type = azdias[col_name].dtype\n",
    "\n",
    "        if (data_type == 'int'):\n",
    "            b = a[0]\n",
    "        elif (data_type == 'float'):\n",
    "            b = a[1]\n",
    "        else:\n",
    "            b = a[2]\n",
    "\n",
    "        return b\n",
    "    \n",
    "    azdias_filled_na = df.copy()\n",
    "    \n",
    "    # Identify missing or unknown data values and convert them to NaNs.\n",
    "    for i, col_name in enumerate(list(azdias_filled_na.columns)):\n",
    "        missing_or_unknown_values = feat_info['missing_or_unknown'][i]\n",
    "        missing_or_unknown_values_list = missing_or_unknown_values[1:-1].split(',')\n",
    "\n",
    "        if(missing_or_unknown_values != '[]'):\n",
    "            data_type = get_data_type(col_name)\n",
    "            missing_or_unknown_values_list = list(map(data_type, missing_or_unknown_values_list))\n",
    "            azdias_filled_na[col_name].replace(missing_or_unknown_values_list, np.nan, inplace=True)\n",
    "    \n",
    "    # Perform an assessment of how much missing data there is in each column of the\n",
    "    # dataset.\n",
    "    # list contain the percentage of missing values in each column of azdias_filled_na\n",
    "    n_rows = azdias_filled_na.shape[0]\n",
    "    mis_percentages_col = azdias_filled_na.isna().sum(axis=0) / n_rows\n",
    "    \n",
    "    # Remove the outlier columns from the dataset. (You'll perform other data\n",
    "    # engineering tasks such as re-encoding and imputation later.)\n",
    "\n",
    "    # Splitting mis_percentages to two columns by threshold 0.2\n",
    "    threshold = 0.2\n",
    "    not_outlier_column_names = mis_percentages_col[mis_percentages_col <= threshold].index\n",
    "    outlier_column_names = mis_percentages_col[mis_percentages_col > threshold].index\n",
    "    azdias_col_outlier_filtered = azdias_filled_na[not_outlier_column_names].copy()\n",
    "    \n",
    "    # How much data is missing in each row of the dataset?\n",
    "    # list contain the percentage of missing values in each rows of azdias_col_outlier_filtered\n",
    "    mis_percentages_row = []\n",
    "    mis_percentages_row = azdias_col_outlier_filtered.isna().sum(axis=1)\n",
    "    \n",
    "    # Write code to divide the data into two subsets based on the number of missing\n",
    "    # values in each row.\n",
    "\n",
    "    # threshold: number of missing values allowed in each row\n",
    "    threshold = 3\n",
    "\n",
    "    rows_below_threshold_id = mis_percentages_row[mis_percentages_row <= threshold].index\n",
    "    rows_above_threshold_id = mis_percentages_row[mis_percentages_row > threshold].index\n",
    "\n",
    "    azdias_outlier_filtered = azdias_col_outlier_filtered.iloc[rows_below_threshold_id, :]\n",
    "    azdias_outlier_rows = azdias_col_outlier_filtered.iloc[rows_above_threshold_id, :]\n",
    "    \n",
    "    # select, re-encode, and engineer column values.\n",
    "    \n",
    "    # Get feature info of only filltered columns \n",
    "    feat_info_filtered_columns = feat_info[feat_info['attribute'].isin(list(azdias_outlier_filtered.columns))].copy()\n",
    "\n",
    "    # Assess categorical variables: which are binary, which are multi-level, and\n",
    "    # which one needs to be re-encoded?\n",
    "\n",
    "    # Get names of catgorical columns\n",
    "    cate_col_names = feat_info_filtered_columns[feat_info['type'] == 'categorical']['attribute']\n",
    "\n",
    "    # Multilevel columns needed encode\n",
    "    en_needed_multi_cols = []\n",
    "\n",
    "    # Binary columns needed encode:\n",
    "    en_needed_bi_cols = []\n",
    "\n",
    "    # print column name and its unique values\n",
    "    for col_name in cate_col_names:\n",
    "        # number of unique values without na\n",
    "        list_unique_values = list(azdias_outlier_filtered[col_name].value_counts(dropna = True).index)\n",
    "        num_unique_values = len(list_unique_values)\n",
    "\n",
    "        if (num_unique_values > 2):\n",
    "            en_needed_multi_cols.append(col_name)\n",
    "\n",
    "        else:\n",
    "            # For binary columns, only encode if its elements are non-numeric\n",
    "            if (not isinstance(list_unique_values[0], (int, float))):\n",
    "                en_needed_bi_cols.append(col_name)\n",
    "\n",
    "    \n",
    "    # One hot columns:\n",
    "    one_hot_columns = en_needed_multi_cols + en_needed_bi_cols\n",
    "    \n",
    "    # Re-encode categorical variable(s) to be kept in the analysis\n",
    "    # Change type of one_hot_columns columns to category so later on can use pd.getdummies\n",
    "    for col_name in one_hot_columns:\n",
    "        azdias_outlier_filtered[col_name] = azdias_outlier_filtered[col_name].astype('category')\n",
    "\n",
    "    # Get dummies variable of one_hot_columns\n",
    "    # drop first to avoid dummy trap\n",
    "    one_hot_encoded_cols = pd.get_dummies(azdias_outlier_filtered[one_hot_columns], drop_first=True)\n",
    "\n",
    "    # Drop old one_hot_columns\n",
    "    azdias_one_hot_encoded = azdias_outlier_filtered.drop(labels = one_hot_columns, axis=1)\n",
    "\n",
    "    # concat azdias_one_hot_encoded with dummies variable of multilevel_cols\n",
    "    azdias_one_hot_encoded = pd.concat([azdias_one_hot_encoded, one_hot_encoded_cols], axis = 1)\n",
    "    \n",
    "    n_rows = azdias_one_hot_encoded.shape[0]\n",
    "\n",
    "    PRAEGENDE_JUGENDJAHRE_decade_convert = [40, 40, 50, 50, 60, 60, 60, 70, 70, 80, 80, 80, 80, 90, 90]\n",
    "    PRAEGENDE_JUGENDJAHRE_decade_boolean = [True] * n_rows\n",
    "\n",
    "    # 0: Mainstream\n",
    "    # 1: Avantgarde\n",
    "    PRAEGENDE_JUGENDJAHRE_movement_convert = [0, 1, 0, 1, 0, 1, 1, 0, 1, 0, 1, 0, 1, 0, 1]\n",
    "    PRAEGENDE_JUGENDJAHRE_movement_boolean = [False] * n_rows\n",
    "    \n",
    "    # Investigate \"PRAEGENDE_JUGENDJAHRE\" and engineer two new variables.\n",
    "    # you should create two new variables to capture the other two dimensions:\n",
    "    # an interval-type variable for decade, and a binary variable for movement.\n",
    "    def get_convert_value_PRA(num, isDecade):\n",
    "        if(np.isnan(num)):\n",
    "            return np.nan\n",
    "        num = int(num)\n",
    "        if (isDecade):\n",
    "            return PRAEGENDE_JUGENDJAHRE_decade_convert[num-1]\n",
    "        else:\n",
    "            return PRAEGENDE_JUGENDJAHRE_movement_convert[num-1]\n",
    "\n",
    "    azdias_one_hot_encoded['PRAEGENDE_JUGENDJAHRE_decade'] = list(map(get_convert_value_PRA, \\\n",
    "                                                                      azdias_one_hot_encoded['PRAEGENDE_JUGENDJAHRE'],\\\n",
    "                                                                      PRAEGENDE_JUGENDJAHRE_decade_boolean))\n",
    "\n",
    "    azdias_one_hot_encoded['PRAEGENDE_JUGENDJAHRE_movement'] = list(map(get_convert_value_PRA, \\\n",
    "                                                                    azdias_one_hot_encoded['PRAEGENDE_JUGENDJAHRE'], \\\n",
    "                                                                    PRAEGENDE_JUGENDJAHRE_movement_boolean))\n",
    "    \n",
    "    n_rows = azdias_one_hot_encoded.shape[0]\n",
    "\n",
    "    CAMEO_INTL_2015_wealth_convert = [1, 2, 3, 4, 5]\n",
    "    CAMEO_INTL_2015_wealth_boolean = [True] * n_rows\n",
    "\n",
    "    CAMEO_INTL_2015_lifestage_convert = [1, 2, 3, 4, 5]\n",
    "    CAMEO_INTL_2015_lifestage_boolean = [False] * n_rows\n",
    "    \n",
    "    # Investigate \"CAMEO_INTL_2015\" and engineer two new variables.\n",
    "    # Break up the two-digit codes by their 'tens'-place and 'ones'-place digits into two new ordinal variables \n",
    "    # (which, for the purposes of this project, is equivalent to just treating them as their raw numeric values).\n",
    "    def get_convert_value_CAMEO(num, isWealth):\n",
    "        if(np.isnan(num)):\n",
    "            return np.nan\n",
    "        num = int(num)\n",
    "        if (isWealth):\n",
    "            num = int(num/10)\n",
    "            return CAMEO_INTL_2015_wealth_convert[num-1]\n",
    "        else:\n",
    "            num = int(num%5)\n",
    "            return CAMEO_INTL_2015_lifestage_convert[num-1]\n",
    "\n",
    "    # Convert CAMEO_INTL_2015 from category to float\n",
    "    # Avoid np.isnan in get_convert_value_CAMEO failed with object data type\n",
    "    azdias_one_hot_encoded['CAMEO_INTL_2015'] = azdias_one_hot_encoded['CAMEO_INTL_2015'].astype('float')\n",
    "\n",
    "    azdias_one_hot_encoded['CAMEO_INTL_2015_wealth'] = list(map(get_convert_value_CAMEO, \\\n",
    "                                                                      azdias_one_hot_encoded['CAMEO_INTL_2015'],\\\n",
    "                                                                      CAMEO_INTL_2015_wealth_boolean))\n",
    "\n",
    "    azdias_one_hot_encoded['CAMEO_INTL_2015_lifestage'] = list(map(get_convert_value_CAMEO, \\\n",
    "                                                                    azdias_one_hot_encoded['CAMEO_INTL_2015'], \\\n",
    "                                                                    CAMEO_INTL_2015_lifestage_boolean))\n",
    "    \n",
    "    # Drop original columns after engineering\n",
    "    azdias_one_hot_encoded.drop(labels=['PRAEGENDE_JUGENDJAHRE', 'CAMEO_INTL_2015'], axis=1, inplace=True)\n",
    "    \n",
    "    df_clean = azdias_one_hot_encoded.copy()\n",
    "    # Return the cleaned dataframe.\n",
    "    return df_clean"
   ]
  },
  {
   "cell_type": "code",
   "execution_count": 42,
   "metadata": {},
   "outputs": [
    {
     "name": "stderr",
     "output_type": "stream",
     "text": [
      "/opt/conda/lib/python3.6/site-packages/ipykernel_launcher.py:80: UserWarning: Boolean Series key will be reindexed to match DataFrame index.\n",
      "/opt/conda/lib/python3.6/site-packages/ipykernel_launcher.py:109: SettingWithCopyWarning: \n",
      "A value is trying to be set on a copy of a slice from a DataFrame.\n",
      "Try using .loc[row_indexer,col_indexer] = value instead\n",
      "\n",
      "See the caveats in the documentation: http://pandas.pydata.org/pandas-docs/stable/indexing.html#indexing-view-versus-copy\n"
     ]
    },
    {
     "data": {
      "text/html": [
       "<div>\n",
       "<style scoped>\n",
       "    .dataframe tbody tr th:only-of-type {\n",
       "        vertical-align: middle;\n",
       "    }\n",
       "\n",
       "    .dataframe tbody tr th {\n",
       "        vertical-align: top;\n",
       "    }\n",
       "\n",
       "    .dataframe thead th {\n",
       "        text-align: right;\n",
       "    }\n",
       "</style>\n",
       "<table border=\"1\" class=\"dataframe\">\n",
       "  <thead>\n",
       "    <tr style=\"text-align: right;\">\n",
       "      <th></th>\n",
       "      <th>ALTERSKATEGORIE_GROB</th>\n",
       "      <th>ANREDE_KZ</th>\n",
       "      <th>FINANZ_MINIMALIST</th>\n",
       "      <th>FINANZ_SPARER</th>\n",
       "      <th>FINANZ_VORSORGER</th>\n",
       "      <th>FINANZ_ANLEGER</th>\n",
       "      <th>FINANZ_UNAUFFAELLIGER</th>\n",
       "      <th>FINANZ_HAUSBAUER</th>\n",
       "      <th>GREEN_AVANTGARDE</th>\n",
       "      <th>HEALTH_TYP</th>\n",
       "      <th>...</th>\n",
       "      <th>CAMEO_DEU_2015_9A</th>\n",
       "      <th>CAMEO_DEU_2015_9B</th>\n",
       "      <th>CAMEO_DEU_2015_9C</th>\n",
       "      <th>CAMEO_DEU_2015_9D</th>\n",
       "      <th>CAMEO_DEU_2015_9E</th>\n",
       "      <th>OST_WEST_KZ_W</th>\n",
       "      <th>PRAEGENDE_JUGENDJAHRE_decade</th>\n",
       "      <th>PRAEGENDE_JUGENDJAHRE_movement</th>\n",
       "      <th>CAMEO_INTL_2015_wealth</th>\n",
       "      <th>CAMEO_INTL_2015_lifestage</th>\n",
       "    </tr>\n",
       "  </thead>\n",
       "  <tbody>\n",
       "    <tr>\n",
       "      <th>1</th>\n",
       "      <td>1.0</td>\n",
       "      <td>2</td>\n",
       "      <td>1</td>\n",
       "      <td>5</td>\n",
       "      <td>2</td>\n",
       "      <td>5</td>\n",
       "      <td>4</td>\n",
       "      <td>5</td>\n",
       "      <td>0</td>\n",
       "      <td>3.0</td>\n",
       "      <td>...</td>\n",
       "      <td>0</td>\n",
       "      <td>0</td>\n",
       "      <td>0</td>\n",
       "      <td>0</td>\n",
       "      <td>0</td>\n",
       "      <td>1</td>\n",
       "      <td>90.0</td>\n",
       "      <td>0.0</td>\n",
       "      <td>5.0</td>\n",
       "      <td>1.0</td>\n",
       "    </tr>\n",
       "    <tr>\n",
       "      <th>2</th>\n",
       "      <td>3.0</td>\n",
       "      <td>2</td>\n",
       "      <td>1</td>\n",
       "      <td>4</td>\n",
       "      <td>1</td>\n",
       "      <td>2</td>\n",
       "      <td>3</td>\n",
       "      <td>5</td>\n",
       "      <td>1</td>\n",
       "      <td>3.0</td>\n",
       "      <td>...</td>\n",
       "      <td>0</td>\n",
       "      <td>0</td>\n",
       "      <td>0</td>\n",
       "      <td>0</td>\n",
       "      <td>0</td>\n",
       "      <td>1</td>\n",
       "      <td>90.0</td>\n",
       "      <td>1.0</td>\n",
       "      <td>2.0</td>\n",
       "      <td>4.0</td>\n",
       "    </tr>\n",
       "    <tr>\n",
       "      <th>4</th>\n",
       "      <td>3.0</td>\n",
       "      <td>1</td>\n",
       "      <td>4</td>\n",
       "      <td>3</td>\n",
       "      <td>4</td>\n",
       "      <td>1</td>\n",
       "      <td>3</td>\n",
       "      <td>2</td>\n",
       "      <td>0</td>\n",
       "      <td>3.0</td>\n",
       "      <td>...</td>\n",
       "      <td>0</td>\n",
       "      <td>0</td>\n",
       "      <td>0</td>\n",
       "      <td>0</td>\n",
       "      <td>0</td>\n",
       "      <td>1</td>\n",
       "      <td>70.0</td>\n",
       "      <td>0.0</td>\n",
       "      <td>4.0</td>\n",
       "      <td>3.0</td>\n",
       "    </tr>\n",
       "    <tr>\n",
       "      <th>5</th>\n",
       "      <td>1.0</td>\n",
       "      <td>2</td>\n",
       "      <td>3</td>\n",
       "      <td>1</td>\n",
       "      <td>5</td>\n",
       "      <td>2</td>\n",
       "      <td>2</td>\n",
       "      <td>5</td>\n",
       "      <td>0</td>\n",
       "      <td>3.0</td>\n",
       "      <td>...</td>\n",
       "      <td>0</td>\n",
       "      <td>0</td>\n",
       "      <td>0</td>\n",
       "      <td>0</td>\n",
       "      <td>0</td>\n",
       "      <td>1</td>\n",
       "      <td>50.0</td>\n",
       "      <td>0.0</td>\n",
       "      <td>5.0</td>\n",
       "      <td>4.0</td>\n",
       "    </tr>\n",
       "    <tr>\n",
       "      <th>6</th>\n",
       "      <td>2.0</td>\n",
       "      <td>2</td>\n",
       "      <td>1</td>\n",
       "      <td>5</td>\n",
       "      <td>1</td>\n",
       "      <td>5</td>\n",
       "      <td>4</td>\n",
       "      <td>3</td>\n",
       "      <td>0</td>\n",
       "      <td>2.0</td>\n",
       "      <td>...</td>\n",
       "      <td>0</td>\n",
       "      <td>0</td>\n",
       "      <td>0</td>\n",
       "      <td>0</td>\n",
       "      <td>0</td>\n",
       "      <td>1</td>\n",
       "      <td>80.0</td>\n",
       "      <td>0.0</td>\n",
       "      <td>2.0</td>\n",
       "      <td>2.0</td>\n",
       "    </tr>\n",
       "  </tbody>\n",
       "</table>\n",
       "<p>5 rows × 183 columns</p>\n",
       "</div>"
      ],
      "text/plain": [
       "   ALTERSKATEGORIE_GROB  ANREDE_KZ  FINANZ_MINIMALIST  FINANZ_SPARER  \\\n",
       "1                   1.0          2                  1              5   \n",
       "2                   3.0          2                  1              4   \n",
       "4                   3.0          1                  4              3   \n",
       "5                   1.0          2                  3              1   \n",
       "6                   2.0          2                  1              5   \n",
       "\n",
       "   FINANZ_VORSORGER  FINANZ_ANLEGER  FINANZ_UNAUFFAELLIGER  FINANZ_HAUSBAUER  \\\n",
       "1                 2               5                      4                 5   \n",
       "2                 1               2                      3                 5   \n",
       "4                 4               1                      3                 2   \n",
       "5                 5               2                      2                 5   \n",
       "6                 1               5                      4                 3   \n",
       "\n",
       "   GREEN_AVANTGARDE  HEALTH_TYP            ...              CAMEO_DEU_2015_9A  \\\n",
       "1                 0         3.0            ...                              0   \n",
       "2                 1         3.0            ...                              0   \n",
       "4                 0         3.0            ...                              0   \n",
       "5                 0         3.0            ...                              0   \n",
       "6                 0         2.0            ...                              0   \n",
       "\n",
       "   CAMEO_DEU_2015_9B  CAMEO_DEU_2015_9C  CAMEO_DEU_2015_9D  CAMEO_DEU_2015_9E  \\\n",
       "1                  0                  0                  0                  0   \n",
       "2                  0                  0                  0                  0   \n",
       "4                  0                  0                  0                  0   \n",
       "5                  0                  0                  0                  0   \n",
       "6                  0                  0                  0                  0   \n",
       "\n",
       "   OST_WEST_KZ_W  PRAEGENDE_JUGENDJAHRE_decade  \\\n",
       "1              1                          90.0   \n",
       "2              1                          90.0   \n",
       "4              1                          70.0   \n",
       "5              1                          50.0   \n",
       "6              1                          80.0   \n",
       "\n",
       "   PRAEGENDE_JUGENDJAHRE_movement  CAMEO_INTL_2015_wealth  \\\n",
       "1                             0.0                     5.0   \n",
       "2                             1.0                     2.0   \n",
       "4                             0.0                     4.0   \n",
       "5                             0.0                     5.0   \n",
       "6                             0.0                     2.0   \n",
       "\n",
       "   CAMEO_INTL_2015_lifestage  \n",
       "1                        1.0  \n",
       "2                        4.0  \n",
       "4                        3.0  \n",
       "5                        4.0  \n",
       "6                        2.0  \n",
       "\n",
       "[5 rows x 183 columns]"
      ]
     },
     "execution_count": 42,
     "metadata": {},
     "output_type": "execute_result"
    }
   ],
   "source": [
    "azdias_clean = clean_data(azdias)\n",
    "azdias_clean.head()"
   ]
  },
  {
   "cell_type": "code",
   "execution_count": 43,
   "metadata": {},
   "outputs": [
    {
     "data": {
      "text/plain": [
       "0    684501\n",
       "1         1\n",
       "Name: GEBAEUDETYP_5.0, dtype: int64"
      ]
     },
     "execution_count": 43,
     "metadata": {},
     "output_type": "execute_result"
    }
   ],
   "source": [
    "# Check this special column\n",
    "azdias_clean['GEBAEUDETYP_5.0'].value_counts()"
   ]
  },
  {
   "cell_type": "code",
   "execution_count": 44,
   "metadata": {},
   "outputs": [],
   "source": [
    "# Because the column is too skew so I decided to drop 'GEBAEUDETYP_5.0' column\n",
    "azdias_clean.drop(labels=['GEBAEUDETYP_5.0'], axis=1, inplace=True)"
   ]
  },
  {
   "cell_type": "markdown",
   "metadata": {},
   "source": [
    "## Step 2: Feature Transformation\n",
    "\n",
    "### Step 2.1: Apply Feature Scaling\n",
    "\n",
    "Before we apply dimensionality reduction techniques to the data, we need to perform feature scaling so that the principal component vectors are not influenced by the natural differences in scale for features. Starting from this part of the project, you'll want to keep an eye on the [API reference page for sklearn](http://scikit-learn.org/stable/modules/classes.html) to help you navigate to all of the classes and functions that you'll need. In this substep, you'll need to check the following:\n",
    "\n",
    "- sklearn requires that data not have missing values in order for its estimators to work properly. So, before applying the scaler to your data, make sure that you've cleaned the DataFrame of the remaining missing values. This can be as simple as just removing all data points with missing data, or applying an [Imputer](http://scikit-learn.org/stable/modules/generated/sklearn.preprocessing.Imputer.html) to replace all missing values. You might also try a more complicated procedure where you temporarily remove missing values in order to compute the scaling parameters before re-introducing those missing values and applying imputation. Think about how much missing data you have and what possible effects each approach might have on your analysis, and justify your decision in the discussion section below.\n",
    "- For the actual scaling function, a [StandardScaler](http://scikit-learn.org/stable/modules/generated/sklearn.preprocessing.StandardScaler.html) instance is suggested, scaling each feature to mean 0 and standard deviation 1.\n",
    "- For these classes, you can make use of the `.fit_transform()` method to both fit a procedure to the data as well as apply the transformation to the data at the same time. Don't forget to keep the fit sklearn objects handy, since you'll be applying them to the customer demographics data towards the end of the project."
   ]
  },
  {
   "cell_type": "code",
   "execution_count": 45,
   "metadata": {},
   "outputs": [],
   "source": [
    "from sklearn.preprocessing import Imputer, StandardScaler\n",
    "from sklearn.decomposition import PCA"
   ]
  },
  {
   "cell_type": "code",
   "execution_count": 46,
   "metadata": {},
   "outputs": [
    {
     "data": {
      "text/plain": [
       "REGIOTYP                          0.055991\n",
       "KKK                               0.055991\n",
       "W_KEIT_KIND_HH                    0.026409\n",
       "PRAEGENDE_JUGENDJAHRE_movement    0.009928\n",
       "PRAEGENDE_JUGENDJAHRE_decade      0.009928\n",
       "dtype: float64"
      ]
     },
     "execution_count": 46,
     "metadata": {},
     "output_type": "execute_result"
    }
   ],
   "source": [
    "# Check pecentage of missing values in each column\n",
    "# Get top 5 missing\n",
    "(azdias_clean.isna().sum(axis=0) / azdias_clean.shape[0]).sort_values(ascending=False)[:5]"
   ]
  },
  {
   "cell_type": "code",
   "execution_count": 47,
   "metadata": {},
   "outputs": [
    {
     "name": "stdout",
     "output_type": "stream",
     "text": [
      "Number of nan value in imputed_df: 0\n"
     ]
    }
   ],
   "source": [
    "# If you've not yet cleaned the dataset of all NaN values, then investigate and\n",
    "# do that now.\n",
    "\n",
    "# Because highest missing percentage is only 5% for 2 columns\n",
    "# Hence I decided to fill nan with 'median' from Imputer\n",
    "# median is robust with outliers\n",
    "\n",
    "fill_NaN = Imputer(missing_values=np.nan, strategy='median')\n",
    "imputed_azdias = pd.DataFrame(fill_NaN.fit_transform(azdias_clean))\n",
    "imputed_azdias.columns = azdias_clean.columns\n",
    "imputed_azdias.index = azdias_clean.index\n",
    "\n",
    "print(f\"Number of nan value in imputed_df: {imputed_azdias.isna().sum().sum()}\")"
   ]
  },
  {
   "cell_type": "code",
   "execution_count": 48,
   "metadata": {},
   "outputs": [
    {
     "data": {
      "text/html": [
       "<div>\n",
       "<style scoped>\n",
       "    .dataframe tbody tr th:only-of-type {\n",
       "        vertical-align: middle;\n",
       "    }\n",
       "\n",
       "    .dataframe tbody tr th {\n",
       "        vertical-align: top;\n",
       "    }\n",
       "\n",
       "    .dataframe thead th {\n",
       "        text-align: right;\n",
       "    }\n",
       "</style>\n",
       "<table border=\"1\" class=\"dataframe\">\n",
       "  <thead>\n",
       "    <tr style=\"text-align: right;\">\n",
       "      <th></th>\n",
       "      <th>ALTERSKATEGORIE_GROB</th>\n",
       "      <th>ANREDE_KZ</th>\n",
       "      <th>FINANZ_MINIMALIST</th>\n",
       "      <th>FINANZ_SPARER</th>\n",
       "      <th>FINANZ_VORSORGER</th>\n",
       "      <th>FINANZ_ANLEGER</th>\n",
       "      <th>FINANZ_UNAUFFAELLIGER</th>\n",
       "      <th>FINANZ_HAUSBAUER</th>\n",
       "      <th>GREEN_AVANTGARDE</th>\n",
       "      <th>HEALTH_TYP</th>\n",
       "      <th>...</th>\n",
       "      <th>CAMEO_DEU_2015_9A</th>\n",
       "      <th>CAMEO_DEU_2015_9B</th>\n",
       "      <th>CAMEO_DEU_2015_9C</th>\n",
       "      <th>CAMEO_DEU_2015_9D</th>\n",
       "      <th>CAMEO_DEU_2015_9E</th>\n",
       "      <th>OST_WEST_KZ_W</th>\n",
       "      <th>PRAEGENDE_JUGENDJAHRE_decade</th>\n",
       "      <th>PRAEGENDE_JUGENDJAHRE_movement</th>\n",
       "      <th>CAMEO_INTL_2015_wealth</th>\n",
       "      <th>CAMEO_INTL_2015_lifestage</th>\n",
       "    </tr>\n",
       "  </thead>\n",
       "  <tbody>\n",
       "    <tr>\n",
       "      <th>1</th>\n",
       "      <td>-1.747634</td>\n",
       "      <td>0.975423</td>\n",
       "      <td>-1.523655</td>\n",
       "      <td>1.588878</td>\n",
       "      <td>-1.050212</td>\n",
       "      <td>1.513292</td>\n",
       "      <td>1.048651</td>\n",
       "      <td>1.341142</td>\n",
       "      <td>-0.542999</td>\n",
       "      <td>1.038860</td>\n",
       "      <td>...</td>\n",
       "      <td>-0.162991</td>\n",
       "      <td>-0.192113</td>\n",
       "      <td>-0.17991</td>\n",
       "      <td>-0.193076</td>\n",
       "      <td>-0.084106</td>\n",
       "      <td>0.528845</td>\n",
       "      <td>1.165809</td>\n",
       "      <td>-0.542999</td>\n",
       "      <td>1.174934</td>\n",
       "      <td>-1.264621</td>\n",
       "    </tr>\n",
       "    <tr>\n",
       "      <th>2</th>\n",
       "      <td>0.193497</td>\n",
       "      <td>0.975423</td>\n",
       "      <td>-1.523655</td>\n",
       "      <td>0.908468</td>\n",
       "      <td>-1.771419</td>\n",
       "      <td>-0.548762</td>\n",
       "      <td>0.320698</td>\n",
       "      <td>1.341142</td>\n",
       "      <td>1.841624</td>\n",
       "      <td>1.038860</td>\n",
       "      <td>...</td>\n",
       "      <td>-0.162991</td>\n",
       "      <td>-0.192113</td>\n",
       "      <td>-0.17991</td>\n",
       "      <td>-0.193076</td>\n",
       "      <td>-0.084106</td>\n",
       "      <td>0.528845</td>\n",
       "      <td>1.165809</td>\n",
       "      <td>1.841624</td>\n",
       "      <td>-0.872392</td>\n",
       "      <td>0.750539</td>\n",
       "    </tr>\n",
       "    <tr>\n",
       "      <th>4</th>\n",
       "      <td>0.193497</td>\n",
       "      <td>-1.025197</td>\n",
       "      <td>0.677626</td>\n",
       "      <td>0.228057</td>\n",
       "      <td>0.392200</td>\n",
       "      <td>-1.236113</td>\n",
       "      <td>0.320698</td>\n",
       "      <td>-0.834925</td>\n",
       "      <td>-0.542999</td>\n",
       "      <td>1.038860</td>\n",
       "      <td>...</td>\n",
       "      <td>-0.162991</td>\n",
       "      <td>-0.192113</td>\n",
       "      <td>-0.17991</td>\n",
       "      <td>-0.193076</td>\n",
       "      <td>-0.084106</td>\n",
       "      <td>0.528845</td>\n",
       "      <td>-0.220483</td>\n",
       "      <td>-0.542999</td>\n",
       "      <td>0.492492</td>\n",
       "      <td>0.078819</td>\n",
       "    </tr>\n",
       "    <tr>\n",
       "      <th>5</th>\n",
       "      <td>-1.747634</td>\n",
       "      <td>0.975423</td>\n",
       "      <td>-0.056134</td>\n",
       "      <td>-1.132765</td>\n",
       "      <td>1.113406</td>\n",
       "      <td>-0.548762</td>\n",
       "      <td>-0.407255</td>\n",
       "      <td>1.341142</td>\n",
       "      <td>-0.542999</td>\n",
       "      <td>1.038860</td>\n",
       "      <td>...</td>\n",
       "      <td>-0.162991</td>\n",
       "      <td>-0.192113</td>\n",
       "      <td>-0.17991</td>\n",
       "      <td>-0.193076</td>\n",
       "      <td>-0.084106</td>\n",
       "      <td>0.528845</td>\n",
       "      <td>-1.606774</td>\n",
       "      <td>-0.542999</td>\n",
       "      <td>1.174934</td>\n",
       "      <td>0.750539</td>\n",
       "    </tr>\n",
       "    <tr>\n",
       "      <th>6</th>\n",
       "      <td>-0.777068</td>\n",
       "      <td>0.975423</td>\n",
       "      <td>-1.523655</td>\n",
       "      <td>1.588878</td>\n",
       "      <td>-1.771419</td>\n",
       "      <td>1.513292</td>\n",
       "      <td>1.048651</td>\n",
       "      <td>-0.109569</td>\n",
       "      <td>-0.542999</td>\n",
       "      <td>-0.285764</td>\n",
       "      <td>...</td>\n",
       "      <td>-0.162991</td>\n",
       "      <td>-0.192113</td>\n",
       "      <td>-0.17991</td>\n",
       "      <td>-0.193076</td>\n",
       "      <td>-0.084106</td>\n",
       "      <td>0.528845</td>\n",
       "      <td>0.472663</td>\n",
       "      <td>-0.542999</td>\n",
       "      <td>-0.872392</td>\n",
       "      <td>-0.592901</td>\n",
       "    </tr>\n",
       "  </tbody>\n",
       "</table>\n",
       "<p>5 rows × 182 columns</p>\n",
       "</div>"
      ],
      "text/plain": [
       "   ALTERSKATEGORIE_GROB  ANREDE_KZ  FINANZ_MINIMALIST  FINANZ_SPARER  \\\n",
       "1             -1.747634   0.975423          -1.523655       1.588878   \n",
       "2              0.193497   0.975423          -1.523655       0.908468   \n",
       "4              0.193497  -1.025197           0.677626       0.228057   \n",
       "5             -1.747634   0.975423          -0.056134      -1.132765   \n",
       "6             -0.777068   0.975423          -1.523655       1.588878   \n",
       "\n",
       "   FINANZ_VORSORGER  FINANZ_ANLEGER  FINANZ_UNAUFFAELLIGER  FINANZ_HAUSBAUER  \\\n",
       "1         -1.050212        1.513292               1.048651          1.341142   \n",
       "2         -1.771419       -0.548762               0.320698          1.341142   \n",
       "4          0.392200       -1.236113               0.320698         -0.834925   \n",
       "5          1.113406       -0.548762              -0.407255          1.341142   \n",
       "6         -1.771419        1.513292               1.048651         -0.109569   \n",
       "\n",
       "   GREEN_AVANTGARDE  HEALTH_TYP            ...              CAMEO_DEU_2015_9A  \\\n",
       "1         -0.542999    1.038860            ...                      -0.162991   \n",
       "2          1.841624    1.038860            ...                      -0.162991   \n",
       "4         -0.542999    1.038860            ...                      -0.162991   \n",
       "5         -0.542999    1.038860            ...                      -0.162991   \n",
       "6         -0.542999   -0.285764            ...                      -0.162991   \n",
       "\n",
       "   CAMEO_DEU_2015_9B  CAMEO_DEU_2015_9C  CAMEO_DEU_2015_9D  CAMEO_DEU_2015_9E  \\\n",
       "1          -0.192113           -0.17991          -0.193076          -0.084106   \n",
       "2          -0.192113           -0.17991          -0.193076          -0.084106   \n",
       "4          -0.192113           -0.17991          -0.193076          -0.084106   \n",
       "5          -0.192113           -0.17991          -0.193076          -0.084106   \n",
       "6          -0.192113           -0.17991          -0.193076          -0.084106   \n",
       "\n",
       "   OST_WEST_KZ_W  PRAEGENDE_JUGENDJAHRE_decade  \\\n",
       "1       0.528845                      1.165809   \n",
       "2       0.528845                      1.165809   \n",
       "4       0.528845                     -0.220483   \n",
       "5       0.528845                     -1.606774   \n",
       "6       0.528845                      0.472663   \n",
       "\n",
       "   PRAEGENDE_JUGENDJAHRE_movement  CAMEO_INTL_2015_wealth  \\\n",
       "1                       -0.542999                1.174934   \n",
       "2                        1.841624               -0.872392   \n",
       "4                       -0.542999                0.492492   \n",
       "5                       -0.542999                1.174934   \n",
       "6                       -0.542999               -0.872392   \n",
       "\n",
       "   CAMEO_INTL_2015_lifestage  \n",
       "1                  -1.264621  \n",
       "2                   0.750539  \n",
       "4                   0.078819  \n",
       "5                   0.750539  \n",
       "6                  -0.592901  \n",
       "\n",
       "[5 rows x 182 columns]"
      ]
     },
     "execution_count": 48,
     "metadata": {},
     "output_type": "execute_result"
    }
   ],
   "source": [
    "# Apply feature scaling to the general population demographics data.\n",
    "standard_scaler = StandardScaler()\n",
    "scaled_azdias = pd.DataFrame(standard_scaler.fit_transform(imputed_azdias))\n",
    "scaled_azdias.columns = imputed_azdias.columns\n",
    "scaled_azdias.index = imputed_azdias.index\n",
    "scaled_azdias.head()"
   ]
  },
  {
   "cell_type": "markdown",
   "metadata": {},
   "source": [
    "### Discussion 2.1: Apply Feature Scaling\n",
    "\n",
    "(Double-click this cell and replace this text with your own text, reporting your decisions regarding feature scaling.)\n",
    "\n",
    "**Steps:**\n",
    "1. Checked percentage of missing values in each columns\n",
    "2. Only 2 columns which has the highest percentage of missing values = 0.05\n",
    "3. Decide to fill np.nan with 'median' of each column, because 'median' robust with outliers\n",
    "4. Perform standard scaler on filled NA data"
   ]
  },
  {
   "cell_type": "markdown",
   "metadata": {},
   "source": [
    "### Step 2.2: Perform Dimensionality Reduction\n",
    "\n",
    "On your scaled data, you are now ready to apply dimensionality reduction techniques.\n",
    "\n",
    "- Use sklearn's [PCA](http://scikit-learn.org/stable/modules/generated/sklearn.decomposition.PCA.html) class to apply principal component analysis on the data, thus finding the vectors of maximal variance in the data. To start, you should not set any parameters (so all components are computed) or set a number of components that is at least half the number of features (so there's enough features to see the general trend in variability).\n",
    "- Check out the ratio of variance explained by each principal component as well as the cumulative variance explained. Try plotting the cumulative or sequential values using matplotlib's [`plot()`](https://matplotlib.org/api/_as_gen/matplotlib.pyplot.plot.html) function. Based on what you find, select a value for the number of transformed features you'll retain for the clustering part of the project.\n",
    "- Once you've made a choice for the number of components to keep, make sure you re-fit a PCA instance to perform the decided-on transformation."
   ]
  },
  {
   "cell_type": "code",
   "execution_count": 49,
   "metadata": {},
   "outputs": [],
   "source": [
    "# Apply PCA to the data.\n",
    "pca_reducer = PCA()\n",
    "pca_azdias = pca_reducer.fit_transform(scaled_azdias)"
   ]
  },
  {
   "cell_type": "code",
   "execution_count": 50,
   "metadata": {},
   "outputs": [],
   "source": [
    "def scree_plot(pca):\n",
    "    '''\n",
    "    Creates a scree plot associated with the principal components \n",
    "    \n",
    "    INPUT: pca - the result of instantian of PCA in scikit learn\n",
    "            \n",
    "    OUTPUT:\n",
    "            None\n",
    "    '''\n",
    "    num_components=len(pca.explained_variance_ratio_)\n",
    "    ind = np.arange(num_components)\n",
    "    vals = pca.explained_variance_ratio_\n",
    " \n",
    "    plt.figure(figsize=(10, 6))\n",
    "    ax = plt.subplot(111)\n",
    "    cumvals = np.cumsum(vals)\n",
    "    ax.bar(ind, vals)\n",
    "    ax.plot(ind, cumvals)\n",
    "    for i in range(num_components):\n",
    "        ax.annotate(r\"%s%%\" % ((str(vals[i]*100)[:4])), (ind[i]+0.2, vals[i]), va=\"bottom\", ha=\"center\", fontsize=12)\n",
    " \n",
    "    ax.xaxis.set_tick_params(width=0)\n",
    "    ax.yaxis.set_tick_params(width=2, length=12)\n",
    " \n",
    "    ax.set_xlabel(\"Principal Component\")\n",
    "    ax.set_ylabel(\"Variance Explained (%)\")\n",
    "    plt.title('Explained Variance Per Principal Component')"
   ]
  },
  {
   "cell_type": "code",
   "execution_count": 51,
   "metadata": {},
   "outputs": [
    {
     "data": {
      "image/png": "[encoded data removed]",
      "text/plain": [
       "<matplotlib.figure.Figure at 0x7f173d8076d8>"
      ]
     },
     "metadata": {
      "needs_background": "light"
     },
     "output_type": "display_data"
    }
   ],
   "source": [
    "# Investigate the variance accounted for by each principal component.\n",
    "scree_plot(pca_reducer)"
   ]
  },
  {
   "cell_type": "code",
   "execution_count": 52,
   "metadata": {},
   "outputs": [],
   "source": [
    "# Re-apply PCA to the data while selecting for number of components to retain.\n",
    "# Get Number of Principal compenents that has sum of variance explained >= 0.90\n",
    "pca_reducer = PCA(n_components=0.90, svd_solver='full')\n",
    "pca_azdias = pd.DataFrame(pca_reducer.fit_transform(scaled_azdias))"
   ]
  },
  {
   "cell_type": "code",
   "execution_count": 17,
   "metadata": {},
   "outputs": [
    {
     "name": "stdout",
     "output_type": "stream",
     "text": [
      "Number of new columns:109\n"
     ]
    },
    {
     "data": {
      "image/png": "[encoded data removed]",
      "text/plain": [
       "<Figure size 720x432 with 1 Axes>"
      ]
     },
     "metadata": {
      "needs_background": "light"
     },
     "output_type": "display_data"
    }
   ],
   "source": [
    "scree_plot(pca_reducer)\n",
    "print(f\"Number of new columns:{pca_azdias.shape[1]}\")"
   ]
  },
  {
   "cell_type": "markdown",
   "metadata": {},
   "source": [
    "### Discussion 2.2: Perform Dimensionality Reduction\n",
    "\n",
    "(Double-click this cell and replace this text with your own text, reporting your findings and decisions regarding dimensionality reduction. How many principal components / transformed features are you retaining for the next step of the analysis?)\n",
    "\n",
    "1. Based on scree plot, I see that, the variance_explianed increase slowly by adding more principal component.\n",
    "2. This is a bad situation because we need to have many principal component to able to represent the original data.\n",
    "3. One of possible reason is: pd.get_dummies() created too many columns\n",
    "3. I choose the threshold as 0.95 which means that the sum of variance_explianed of all principal component >= 0.95\n",
    "4. We used 118 columns to represent 0.95% variance of the data\n",
    "5. Shrink from 183 -> 102"
   ]
  },
  {
   "cell_type": "markdown",
   "metadata": {},
   "source": [
    "### Step 2.3: Interpret Principal Components\n",
    "\n",
    "Now that we have our transformed principal components, it's a nice idea to check out the weight of each variable on the first few components to see if they can be interpreted in some fashion.\n",
    "\n",
    "As a reminder, each principal component is a unit vector that points in the direction of highest variance (after accounting for the variance captured by earlier principal components). The further a weight is from zero, the more the principal component is in the direction of the corresponding feature. If two features have large weights of the same sign (both positive or both negative), then increases in one tend expect to be associated with increases in the other. To contrast, features with different signs can be expected to show a negative correlation: increases in one variable should result in a decrease in the other.\n",
    "\n",
    "- To investigate the features, you should map each weight to their corresponding feature name, then sort the features according to weight. The most interesting features for each principal component, then, will be those at the beginning and end of the sorted list. Use the data dictionary document to help you understand these most prominent features, their relationships, and what a positive or negative value on the principal component might indicate.\n",
    "- You should investigate and interpret feature associations from the first three principal components in this substep. To help facilitate this, you should write a function that you can call at any time to print the sorted list of feature weights, for the *i*-th principal component. This might come in handy in the next step of the project, when you interpret the tendencies of the discovered clusters."
   ]
  },
  {
   "cell_type": "code",
   "execution_count": 18,
   "metadata": {},
   "outputs": [],
   "source": [
    "# HINT: Try defining a function here or in a new cell that you can reuse in the\n",
    "# other cells.\n",
    "def get_pca_weights_link_with_names(i):\n",
    "    pca_weights_wname = pd.Series(data = pca_reducer.components_[i], index=list(scaled_azdias.columns))\n",
    "    print(pca_weights_wname.sort_values(ascending=False)[:5])\n",
    "    print(list(pca_weights_wname.sort_values(ascending=False)[:5].index))\n",
    "    print('-----------------------')\n",
    "    print(pca_weights_wname.sort_values(ascending=True)[:5])\n",
    "    print(list(pca_weights_wname.sort_values(ascending=True)[:5].index))\n",
    "    print('-----------------------')\n",
    "    print(pca_reducer.explained_variance_ratio_[i])\n",
    "    return pca_weights_wname"
   ]
  },
  {
   "cell_type": "code",
   "execution_count": 19,
   "metadata": {},
   "outputs": [
    {
     "name": "stdout",
     "output_type": "stream",
     "text": [
      "PLZ8_ANTG3                0.188247\n",
      "CAMEO_INTL_2015_wealth    0.187418\n",
      "HH_EINKOMMEN_SCORE        0.183819\n",
      "PLZ8_ANTG4                0.183079\n",
      "PLZ8_BAUMAX               0.179095\n",
      "dtype: float64\n",
      "['PLZ8_ANTG3', 'CAMEO_INTL_2015_wealth', 'HH_EINKOMMEN_SCORE', 'PLZ8_ANTG4', 'PLZ8_BAUMAX']\n",
      "-----------------------\n",
      "MOBI_REGIO          -0.209179\n",
      "KBA05_ANTG1         -0.196254\n",
      "PLZ8_ANTG1          -0.189840\n",
      "FINANZ_MINIMALIST   -0.188665\n",
      "KBA05_GBZ           -0.185273\n",
      "dtype: float64\n",
      "['MOBI_REGIO', 'KBA05_ANTG1', 'PLZ8_ANTG1', 'FINANZ_MINIMALIST', 'KBA05_GBZ']\n",
      "-----------------------\n",
      "0.07775832207229443\n"
     ]
    }
   ],
   "source": [
    "# Map weights for the first principal component to corresponding feature names\n",
    "# and then print the linked values, sorted by weight.\n",
    "pca_weight_1 = get_pca_weights_link_with_names(0)"
   ]
  },
  {
   "cell_type": "code",
   "execution_count": 68,
   "metadata": {},
   "outputs": [
    {
     "name": "stdout",
     "output_type": "stream",
     "text": [
      "ALTERSKATEGORIE_GROB    0.237941\n",
      "FINANZ_VORSORGER        0.219555\n",
      "ZABEOTYP_3              0.202043\n",
      "SEMIO_ERL               0.188833\n",
      "SEMIO_LUST              0.168480\n",
      "dtype: float64\n",
      "['ALTERSKATEGORIE_GROB', 'FINANZ_VORSORGER', 'ZABEOTYP_3', 'SEMIO_ERL', 'SEMIO_LUST']\n",
      "-----------------------\n",
      "PRAEGENDE_JUGENDJAHRE_decade   -0.238642\n",
      "FINANZ_SPARER                  -0.226940\n",
      "SEMIO_REL                      -0.225636\n",
      "SEMIO_PFLICHT                  -0.213956\n",
      "SEMIO_TRADV                    -0.212716\n",
      "dtype: float64\n",
      "['PRAEGENDE_JUGENDJAHRE_decade', 'FINANZ_SPARER', 'SEMIO_REL', 'SEMIO_PFLICHT', 'SEMIO_TRADV']\n",
      "-----------------------\n",
      "0.0600674990205\n"
     ]
    }
   ],
   "source": [
    "# Map weights for the second principal component to corresponding feature names\n",
    "# and then print the linked values, sorted by weight.\n",
    "pca_weight_2 = get_pca_weights_link_with_names(1)"
   ]
  },
  {
   "cell_type": "code",
   "execution_count": 69,
   "metadata": {},
   "outputs": [
    {
     "name": "stdout",
     "output_type": "stream",
     "text": [
      "SEMIO_VERT     0.326108\n",
      "SEMIO_SOZ      0.258106\n",
      "SEMIO_FAM      0.256361\n",
      "SEMIO_KULT     0.244569\n",
      "FINANZTYP_5    0.145161\n",
      "dtype: float64\n",
      "['SEMIO_VERT', 'SEMIO_SOZ', 'SEMIO_FAM', 'SEMIO_KULT', 'FINANZTYP_5']\n",
      "-----------------------\n",
      "ANREDE_KZ    -0.345371\n",
      "SEMIO_KAEM   -0.312968\n",
      "SEMIO_DOM    -0.276800\n",
      "SEMIO_KRIT   -0.260741\n",
      "SEMIO_ERL    -0.197215\n",
      "dtype: float64\n",
      "['ANREDE_KZ', 'SEMIO_KAEM', 'SEMIO_DOM', 'SEMIO_KRIT', 'SEMIO_ERL']\n",
      "-----------------------\n",
      "0.036566069512\n"
     ]
    }
   ],
   "source": [
    "# Map weights for the third principal component to corresponding feature names\n",
    "# and then print the linked values, sorted by weight.\n",
    "pca_weight_3 = get_pca_weights_link_with_names(2)"
   ]
  },
  {
   "cell_type": "markdown",
   "metadata": {},
   "source": [
    "### Discussion 2.3: Interpret Principal Components\n",
    "\n",
    "(Double-click this cell and replace this text with your own text, reporting your observations from detailed investigation of the first few principal components generated. Can we interpret positive and negative values from them in a meaningful way?)\n",
    "\n",
    "**Principal Component 1**\n",
    "- Top 5 positive correlation: 'PLZ8_ANTG3', 'CAMEO_INTL_2015_wealth', 'PLZ8_ANTG4', 'HH_EINKOMMEN_SCORE', 'PLZ8_BAUMAX'\n",
    "- Conclusion: Very interesting, PLZ8_ANTG3, PLZ8_ANTG4, PLZ8_BAUMAX hold information about house held density in the area. CAMEO_INTL_2015_wealth held information about wealthy status. HH_EINKOMMEN_SCORE held information about household net income.\n",
    "- Cleary, those 5 columns have some positive correlation to each other\n",
    "\n",
    "- Top 5 negative correlation: 'MOBI_REGIO', 'KBA05_ANTG1', 'PLZ8_ANTG1', 'FINANZ_MINIMALIST', 'KBA05_GBZ'\n",
    "- Compare with Top 5 positive correaltion.\n",
    "- Conclusion: I dont see quite much constrast between them hence the relationship between top 5 positive correaltion and top 5 negative correlation does not have to be inverse\n",
    "\n",
    "**Principal Component 2**\n",
    "- Top 5 positive correlation: 'ALTERSKATEGORIE_GROB', 'FINANZ_VORSORGER', 'ZABEOTYP_3', 'SEMIO_ERL', 'SEMIO_LUST'\n",
    "- Intepreting: ALTERSKATEGORIE_GROB is about the age. FINANZ_VORSORGER is about financial typology which is 'be preapred'. SEMIO_ERL is about Personality typology which is 'event-oriented'. SEMIO_LUST is about Personality typology which is 'sensual-minded'. \n",
    "- Conclusion: Very intriguing, the story can tell from those 5 columns is: young people who has just take inital step on preparing for their financial. Because they are young people henece they have 'event-oriented' and 'sensual-minded'.\n",
    "\n",
    "**Principal Component 3**\n",
    "- Top 5 positive correlation: 'SEMIO_VERT', 'SEMIO_SOZ', 'SEMIO_FAM', 'SEMIO_KULT', 'FINANZTYP_5'\n",
    "- Intepreting: SEMIO_VERT is about Personality typology: 'dreamful'. SEMIO_SOZ is about Personality typology: 'socially-minded'. SEMIO_FAM is about Personality typology: 'family-minded'. SEMIO_KULT is about Personality typology: 'cultural-minded'. FINANZTYP_5 is: Most descriptive financial type for individual: 'investor'\n",
    "- Conclusion: Very intriguing, the story can tell from those 5 columns is: investor in Germany tend to have these characteristic: dreamful, socially-minded, family-minded and cultural-minded\n"
   ]
  },
  {
   "cell_type": "markdown",
   "metadata": {},
   "source": [
    "## Step 3: Clustering\n",
    "\n",
    "### Step 3.1: Apply Clustering to General Population\n",
    "\n",
    "You've assessed and cleaned the demographics data, then scaled and transformed them. Now, it's time to see how the data clusters in the principal components space. In this substep, you will apply k-means clustering to the dataset and use the average within-cluster distances from each point to their assigned cluster's centroid to decide on a number of clusters to keep.\n",
    "\n",
    "- Use sklearn's [KMeans](http://scikit-learn.org/stable/modules/generated/sklearn.cluster.KMeans.html#sklearn.cluster.KMeans) class to perform k-means clustering on the PCA-transformed data.\n",
    "- Then, compute the average difference from each point to its assigned cluster's center. **Hint**: The KMeans object's `.score()` method might be useful here, but note that in sklearn, scores tend to be defined so that larger is better. Try applying it to a small, toy dataset, or use an internet search to help your understanding.\n",
    "- Perform the above two steps for a number of different cluster counts. You can then see how the average distance decreases with an increasing number of clusters. However, each additional cluster provides a smaller net benefit. Use this fact to select a final number of clusters in which to group the data. **Warning**: because of the large size of the dataset, it can take a long time for the algorithm to resolve. The more clusters to fit, the longer the algorithm will take. You should test for cluster counts through at least 10 clusters to get the full picture, but you shouldn't need to test for a number of clusters above about 30.\n",
    "- Once you've selected a final number of clusters to use, re-fit a KMeans instance to perform the clustering operation. Make sure that you also obtain the cluster assignments for the general demographics data, since you'll be using them in the final Step 3.3."
   ]
  },
  {
   "cell_type": "code",
   "execution_count": 53,
   "metadata": {},
   "outputs": [],
   "source": [
    "from sklearn.cluster import KMeans\n",
    "from sklearn.metrics import silhouette_score"
   ]
  },
  {
   "cell_type": "code",
   "execution_count": 21,
   "metadata": {},
   "outputs": [],
   "source": [
    "def get_kmeans_score(num_cluster, data, n_points):\n",
    "    kmeans_model = KMeans(n_clusters=num_cluster, random_state=0).fit(data)\n",
    "    # Because kmeans in sklearn = -1 * Sum_of_square_distance_of_point_to_its_centroid\n",
    "    score_kmeans = abs(kmeans_model.score(data))\n",
    "    \n",
    "    # Get average of Sum_of_square_distance_of_point_to_its_centroid\n",
    "    avg_score_kmeans = score_kmeans / n_points\n",
    "    \n",
    "    # return string to avoid OverflowError: cannot convert float infinity to integer\n",
    "    return num_cluster, avg_score_kmeans"
   ]
  },
  {
   "cell_type": "code",
   "execution_count": 72,
   "metadata": {},
   "outputs": [],
   "source": [
    "# Over a number of different cluster counts...\n",
    "\n",
    "\n",
    "    # run k-means clustering on the data and...\n",
    "    \n",
    "    \n",
    "    # compute the average within-cluster distances.\n",
    "    \n",
    "n_points = pca_azdias.shape[0]\n",
    "data = pca_azdias\n",
    "num_clusters = []\n",
    "scores = []\n",
    "# Kmeans cluster work with n_centroids start from >= 2\n",
    "for i in range(2, 25):\n",
    "    num_cluster, avg_score_kmeans = get_kmeans_score(i, data, n_points)\n",
    "    \n",
    "    num_clusters.append(num_cluster)\n",
    "    scores.append(avg_score_kmeans) "
   ]
  },
  {
   "cell_type": "code",
   "execution_count": 77,
   "metadata": {},
   "outputs": [
    {
     "data": {
      "text/plain": [
       "Text(0.5,1,'K vs Average SSE')"
      ]
     },
     "execution_count": 77,
     "metadata": {},
     "output_type": "execute_result"
    },
    {
     "data": {
      "image/png": "[encoded data removed]",
      "text/plain": [
       "<matplotlib.figure.Figure at 0x7fefc2d14cc0>"
      ]
     },
     "metadata": {
      "needs_background": "light"
     },
     "output_type": "display_data"
    }
   ],
   "source": [
    "# Investigate the change in within-cluster distance across number of clusters.\n",
    "# HINT: Use matplotlib's plot function to visualize this relationship.\n",
    "plt.plot(num_clusters, scores)\n",
    "plt.xlabel('K')\n",
    "plt.ylabel('Average SSE')\n",
    "plt.title('K vs Average SSE')"
   ]
  },
  {
   "cell_type": "markdown",
   "metadata": {},
   "source": [
    "#### Use Silhoute to compare the fittness of model with different K"
   ]
  },
  {
   "cell_type": "code",
   "execution_count": 25,
   "metadata": {},
   "outputs": [],
   "source": [
    "def get_silhoute_score(num_cluster, data):\n",
    "    \n",
    "    kmeans_model = KMeans(n_clusters=num_cluster, random_state=0).fit(data)\n",
    "    \n",
    "    sil_score = silhouette_score(data, kmeans_model.labels_)\n",
    "        \n",
    "    return num_cluster, sil_score"
   ]
  },
  {
   "cell_type": "code",
   "execution_count": 26,
   "metadata": {},
   "outputs": [
    {
     "data": {
      "text/plain": [
       "[0.06769115046470321,\n",
       " 0.047928641581011185,\n",
       " 0.05074884321665983,\n",
       " 0.04605909634775677,\n",
       " 0.03573827401944737,\n",
       " 0.03579346114515192,\n",
       " 0.03643428715072843,\n",
       " 0.03558007333711137,\n",
       " 0.03749765735047506,\n",
       " 0.03624843755178271,\n",
       " 0.037805277692400316,\n",
       " 0.03468086463849984,\n",
       " 0.041764453598254744,\n",
       " 0.035142786642498695,\n",
       " 0.034834917488264144,\n",
       " 0.042935311345864736,\n",
       " 0.04550988136334685,\n",
       " 0.04281228440420181,\n",
       " 0.03816466231690443,\n",
       " 0.03861095221317424,\n",
       " 0.050672975987663994,\n",
       " 0.05730946681667366,\n",
       " 0.04168605676435623]"
      ]
     },
     "execution_count": 26,
     "metadata": {},
     "output_type": "execute_result"
    }
   ],
   "source": [
    "data = pca_azdias\n",
    "num_clusters = []\n",
    "sil_scores = []\n",
    "for i in range(2, 25):\n",
    "    num_cluster, sil_score = get_silhoute_score(i, data)\n",
    "    \n",
    "    num_clusters.append(num_cluster)\n",
    "    sil_scores.append(sil_score) \n",
    "\n",
    "sil_scores"
   ]
  },
  {
   "cell_type": "code",
   "execution_count": 27,
   "metadata": {},
   "outputs": [
    {
     "data": {
      "text/plain": [
       "Text(0.5, 1.0, 'K vs Silhoute Scores')"
      ]
     },
     "execution_count": 27,
     "metadata": {},
     "output_type": "execute_result"
    },
    {
     "data": {
      "image/png": "[encoded data removed]",
      "text/plain": [
       "<Figure size 432x288 with 1 Axes>"
      ]
     },
     "metadata": {
      "needs_background": "light"
     },
     "output_type": "display_data"
    }
   ],
   "source": [
    "plt.plot(num_clusters, sil_scores)\n",
    "plt.xlabel('K')\n",
    "plt.ylabel('Silhoute Scores')\n",
    "plt.title('K vs Silhoute Scores')"
   ]
  },
  {
   "cell_type": "markdown",
   "metadata": {},
   "source": [
    "> **Based on K vs Silhoute Score, I choose K = 23**"
   ]
  },
  {
   "cell_type": "code",
   "execution_count": 54,
   "metadata": {},
   "outputs": [],
   "source": [
    "# Re-fit the k-means model with the selected number of clusters and obtain\n",
    "# cluster predictions for the general population demographics data.\n",
    "K = 23\n",
    "data = pca_azdias\n",
    "kmeans_model_23 = KMeans(n_clusters=K, random_state=0).fit(data)\n",
    "demographic_labels = kmeans_model_23.predict(data)"
   ]
  },
  {
   "cell_type": "code",
   "execution_count": 55,
   "metadata": {},
   "outputs": [
    {
     "data": {
      "text/plain": [
       "Text(0.5,1,'Germany Demographic Groups')"
      ]
     },
     "execution_count": 55,
     "metadata": {},
     "output_type": "execute_result"
    },
    {
     "data": {
      "image/png": "[encoded data removed]",
      "text/plain": [
       "<matplotlib.figure.Figure at 0x7f173d860668>"
      ]
     },
     "metadata": {
      "needs_background": "light"
     },
     "output_type": "display_data"
    }
   ],
   "source": [
    "ax = sns.countplot(x=demographic_labels)\n",
    "ax.set_xlabel(\"Demographic Group\")\n",
    "ax.set_title(\"Germany Demographic Groups\")"
   ]
  },
  {
   "cell_type": "markdown",
   "metadata": {},
   "source": [
    "### Discussion 3.1: Apply Clustering to General Population\n",
    "\n",
    "(Double-click this cell and replace this text with your own text, reporting your findings and decisions regarding clustering. Into how many clusters have you decided to segment the population?)\n",
    "\n",
    "- Using elbow method and looking the graph of K vs Silhoute Score, I decided to choose number of cluster for KMean Clustering model is: K = 23\n",
    "- Because our problem is unsupervised learning, and we used model is Kmean Clustering. Hence, Silhoute score is one of the best validation for our case.  "
   ]
  },
  {
   "cell_type": "markdown",
   "metadata": {},
   "source": [
    "### Step 3.2: Apply All Steps to the Customer Data\n",
    "\n",
    "Now that you have clusters and cluster centers for the general population, it's time to see how the customer data maps on to those clusters. Take care to not confuse this for re-fitting all of the models to the customer data. Instead, you're going to use the fits from the general population to clean, transform, and cluster the customer data. In the last step of the project, you will interpret how the general population fits apply to the customer data.\n",
    "\n",
    "- Don't forget when loading in the customers data, that it is semicolon (`;`) delimited.\n",
    "- Apply the same feature wrangling, selection, and engineering steps to the customer demographics using the `clean_data()` function you created earlier. (You can assume that the customer demographics data has similar meaning behind missing data patterns as the general demographics data.)\n",
    "- Use the sklearn objects from the general demographics data, and apply their transformations to the customers data. That is, you should not be using a `.fit()` or `.fit_transform()` method to re-fit the old objects, nor should you be creating new sklearn objects! Carry the data through the feature scaling, PCA, and clustering steps, obtaining cluster assignments for all of the data in the customer demographics data."
   ]
  },
  {
   "cell_type": "code",
   "execution_count": 56,
   "metadata": {},
   "outputs": [],
   "source": [
    "# Load in the customer demographics data.\n",
    "customers = pd.read_csv('Udacity_CUSTOMERS_Subset.csv', delimiter=';')"
   ]
  },
  {
   "cell_type": "markdown",
   "metadata": {},
   "source": [
    "#### Fill NA in customers"
   ]
  },
  {
   "cell_type": "code",
   "execution_count": 57,
   "metadata": {},
   "outputs": [],
   "source": [
    "def clean_data_customer(df, not_outlier_cols):\n",
    "    \"\"\"\n",
    "    Perform feature trimming, re-encoding, and engineering for demographics\n",
    "    data\n",
    "    \n",
    "    INPUT: Demographics DataFrame\n",
    "    OUTPUT: Trimmed and cleaned demographics DataFrame\n",
    "    \"\"\"\n",
    "    \n",
    "    # Put in code here to execute all main cleaning steps:\n",
    "    # convert missing value codes into NaNs, ...\n",
    "    def get_data_type(col_name):\n",
    "    \n",
    "        a = [int, float, str]\n",
    "        b = None\n",
    "        data_type = azdias[col_name].dtype\n",
    "\n",
    "        if (data_type == 'int'):\n",
    "            b = a[0]\n",
    "        elif (data_type == 'float'):\n",
    "            b = a[1]\n",
    "        else:\n",
    "            b = a[2]\n",
    "\n",
    "        return b\n",
    "    \n",
    "    azdias_filled_na = df.copy()\n",
    "    \n",
    "    # Identify missing or unknown data values and convert them to NaNs.\n",
    "    for i, col_name in enumerate(list(azdias_filled_na.columns)):\n",
    "        missing_or_unknown_values = feat_info['missing_or_unknown'][i]\n",
    "        missing_or_unknown_values_list = missing_or_unknown_values[1:-1].split(',')\n",
    "\n",
    "        if(missing_or_unknown_values != '[]'):\n",
    "            data_type = get_data_type(col_name)\n",
    "            missing_or_unknown_values_list = list(map(data_type, missing_or_unknown_values_list))\n",
    "            azdias_filled_na[col_name].replace(missing_or_unknown_values_list, np.nan, inplace=True)\n",
    "            \n",
    "            \n",
    "            \n",
    "    \n",
    "    # Filtered outlier colummns based on Germany Demographic Data\n",
    "    not_outlier_column_names = not_outlier_cols\n",
    "    azdias_col_outlier_filtered = azdias_filled_na[not_outlier_column_names].copy()\n",
    "    \n",
    "    \n",
    "    \n",
    "    \n",
    "    \n",
    "    # How much data is missing in each row of the dataset?\n",
    "    # list contain the percentage of missing values in each rows of azdias_col_outlier_filtered\n",
    "    mis_percentages_row = []\n",
    "    mis_percentages_row = azdias_col_outlier_filtered.isna().sum(axis=1)\n",
    "    \n",
    "    # Write code to divide the data into two subsets based on the number of missing\n",
    "    # values in each row.\n",
    "\n",
    "    # threshold: number of missing values allowed in each row\n",
    "    threshold = 20\n",
    "\n",
    "    rows_below_threshold_id = mis_percentages_row[mis_percentages_row <= threshold].index\n",
    "    rows_above_threshold_id = mis_percentages_row[mis_percentages_row > threshold].index\n",
    "\n",
    "    azdias_outlier_filtered = azdias_col_outlier_filtered.iloc[rows_below_threshold_id, :]\n",
    "    azdias_outlier_rows = azdias_col_outlier_filtered.iloc[rows_above_threshold_id, :]\n",
    "    \n",
    "    \n",
    "    # select, re-encode, and engineer column values.\n",
    "    \n",
    "    # Get feature info of only filltered columns \n",
    "    feat_info_filtered_columns = feat_info[feat_info['attribute'].isin(list(azdias_outlier_filtered.columns))].copy()\n",
    "\n",
    "    # Assess categorical variables: which are binary, which are multi-level, and\n",
    "    # which one needs to be re-encoded?\n",
    "\n",
    "    # Get names of catgorical columns\n",
    "    cate_col_names = feat_info_filtered_columns[feat_info['type'] == 'categorical']['attribute']\n",
    "\n",
    "    # Multilevel columns needed encode\n",
    "    en_needed_multi_cols = []\n",
    "\n",
    "    # Binary columns needed encode:\n",
    "    en_needed_bi_cols = []\n",
    "\n",
    "    # print column name and its unique values\n",
    "    for col_name in cate_col_names:\n",
    "        # number of unique values without na\n",
    "        list_unique_values = list(azdias_outlier_filtered[col_name].value_counts(dropna = True).index)\n",
    "        num_unique_values = len(list_unique_values)\n",
    "\n",
    "        if (num_unique_values > 2):\n",
    "            en_needed_multi_cols.append(col_name)\n",
    "\n",
    "        else:\n",
    "            # For binary columns, only encode if its elements are non-numeric\n",
    "            if (not isinstance(list_unique_values[0], (int, float))):\n",
    "                en_needed_bi_cols.append(col_name)\n",
    "\n",
    "    \n",
    "    # One hot columns:\n",
    "    one_hot_columns = en_needed_multi_cols + en_needed_bi_cols\n",
    "    \n",
    "    # Re-encode categorical variable(s) to be kept in the analysis\n",
    "    # Change type of one_hot_columns columns to category so later on can use pd.getdummies\n",
    "    for col_name in one_hot_columns:\n",
    "        azdias_outlier_filtered[col_name] = azdias_outlier_filtered[col_name].astype('category')\n",
    "\n",
    "    # Get dummies variable of one_hot_columns\n",
    "    # drop first to avoid dummy trap\n",
    "    one_hot_encoded_cols = pd.get_dummies(azdias_outlier_filtered[one_hot_columns], drop_first=True)\n",
    "\n",
    "    # Drop old one_hot_columns\n",
    "    azdias_one_hot_encoded = azdias_outlier_filtered.drop(labels = one_hot_columns, axis=1)\n",
    "\n",
    "    # concat azdias_one_hot_encoded with dummies variable of multilevel_cols\n",
    "    azdias_one_hot_encoded = pd.concat([azdias_one_hot_encoded, one_hot_encoded_cols], axis = 1)\n",
    "    \n",
    "    n_rows = azdias_one_hot_encoded.shape[0]\n",
    "\n",
    "    PRAEGENDE_JUGENDJAHRE_decade_convert = [40, 40, 50, 50, 60, 60, 60, 70, 70, 80, 80, 80, 80, 90, 90]\n",
    "    PRAEGENDE_JUGENDJAHRE_decade_boolean = [True] * n_rows\n",
    "\n",
    "    # 0: Mainstream\n",
    "    # 1: Avantgarde\n",
    "    PRAEGENDE_JUGENDJAHRE_movement_convert = [0, 1, 0, 1, 0, 1, 1, 0, 1, 0, 1, 0, 1, 0, 1]\n",
    "    PRAEGENDE_JUGENDJAHRE_movement_boolean = [False] * n_rows\n",
    "    \n",
    "    # Investigate \"PRAEGENDE_JUGENDJAHRE\" and engineer two new variables.\n",
    "    # you should create two new variables to capture the other two dimensions:\n",
    "    # an interval-type variable for decade, and a binary variable for movement.\n",
    "    def get_convert_value_PRA(num, isDecade):\n",
    "        if(np.isnan(num)):\n",
    "            return np.nan\n",
    "        num = int(num)\n",
    "        if (isDecade):\n",
    "            return PRAEGENDE_JUGENDJAHRE_decade_convert[num-1]\n",
    "        else:\n",
    "            return PRAEGENDE_JUGENDJAHRE_movement_convert[num-1]\n",
    "\n",
    "    azdias_one_hot_encoded['PRAEGENDE_JUGENDJAHRE_decade'] = list(map(get_convert_value_PRA, \\\n",
    "                                                                      azdias_one_hot_encoded['PRAEGENDE_JUGENDJAHRE'],\\\n",
    "                                                                      PRAEGENDE_JUGENDJAHRE_decade_boolean))\n",
    "\n",
    "    azdias_one_hot_encoded['PRAEGENDE_JUGENDJAHRE_movement'] = list(map(get_convert_value_PRA, \\\n",
    "                                                                    azdias_one_hot_encoded['PRAEGENDE_JUGENDJAHRE'], \\\n",
    "                                                                    PRAEGENDE_JUGENDJAHRE_movement_boolean))\n",
    "    \n",
    "    n_rows = azdias_one_hot_encoded.shape[0]\n",
    "\n",
    "    CAMEO_INTL_2015_wealth_convert = [1, 2, 3, 4, 5]\n",
    "    CAMEO_INTL_2015_wealth_boolean = [True] * n_rows\n",
    "\n",
    "    CAMEO_INTL_2015_lifestage_convert = [1, 2, 3, 4, 5]\n",
    "    CAMEO_INTL_2015_lifestage_boolean = [False] * n_rows\n",
    "    \n",
    "    # Investigate \"CAMEO_INTL_2015\" and engineer two new variables.\n",
    "    # Break up the two-digit codes by their 'tens'-place and 'ones'-place digits into two new ordinal variables \n",
    "    # (which, for the purposes of this project, is equivalent to just treating them as their raw numeric values).\n",
    "    def get_convert_value_CAMEO(num, isWealth):\n",
    "        if(np.isnan(num)):\n",
    "            return np.nan\n",
    "        num = int(num)\n",
    "        if (isWealth):\n",
    "            num = int(num/10)\n",
    "            return CAMEO_INTL_2015_wealth_convert[num-1]\n",
    "        else:\n",
    "            num = int(num%5)\n",
    "            return CAMEO_INTL_2015_lifestage_convert[num-1]\n",
    "\n",
    "    # Convert CAMEO_INTL_2015 from category to float\n",
    "    # Avoid np.isnan in get_convert_value_CAMEO failed with object data type\n",
    "    azdias_one_hot_encoded['CAMEO_INTL_2015'] = azdias_one_hot_encoded['CAMEO_INTL_2015'].astype('float')\n",
    "\n",
    "    azdias_one_hot_encoded['CAMEO_INTL_2015_wealth'] = list(map(get_convert_value_CAMEO, \\\n",
    "                                                                      azdias_one_hot_encoded['CAMEO_INTL_2015'],\\\n",
    "                                                                      CAMEO_INTL_2015_wealth_boolean))\n",
    "\n",
    "    azdias_one_hot_encoded['CAMEO_INTL_2015_lifestage'] = list(map(get_convert_value_CAMEO, \\\n",
    "                                                                    azdias_one_hot_encoded['CAMEO_INTL_2015'], \\\n",
    "                                                                    CAMEO_INTL_2015_lifestage_boolean))\n",
    "    \n",
    "    # Drop original columns after engineering\n",
    "    azdias_one_hot_encoded.drop(labels=['PRAEGENDE_JUGENDJAHRE', 'CAMEO_INTL_2015'], axis=1, inplace=True)\n",
    "    \n",
    "    df_clean = azdias_one_hot_encoded.copy()\n",
    "    # Return the cleaned dataframe.\n",
    "    return df_clean"
   ]
  },
  {
   "cell_type": "code",
   "execution_count": 66,
   "metadata": {},
   "outputs": [
    {
     "name": "stderr",
     "output_type": "stream",
     "text": [
      "/opt/conda/lib/python3.6/site-packages/ipykernel_launcher.py:77: UserWarning: Boolean Series key will be reindexed to match DataFrame index.\n",
      "/opt/conda/lib/python3.6/site-packages/ipykernel_launcher.py:106: SettingWithCopyWarning: \n",
      "A value is trying to be set on a copy of a slice from a DataFrame.\n",
      "Try using .loc[row_indexer,col_indexer] = value instead\n",
      "\n",
      "See the caveats in the documentation: http://pandas.pydata.org/pandas-docs/stable/indexing.html#indexing-view-versus-copy\n"
     ]
    }
   ],
   "source": [
    "# Apply preprocessing, feature transformation, and clustering from the general\n",
    "# demographics onto the customer data, obtaining cluster predictions for the\n",
    "# customer demographics data.\n",
    "\n",
    "# Drop not_outlier_column_names same as demographic data \n",
    "# Because we want customers_cleaned have identical columns as azdias_clean\n",
    "# Dont need to drop 'GEBAEUDETYP_5.0' like azdias_clean because customers_cleaned do not have 'GEBAEUDETYP_5.0' column\n",
    "customers_cleaned = clean_data_customer(customers, not_outlier_cols=not_outlier_column_names)\n",
    "\n",
    "\n",
    "imputed_customers = pd.DataFrame(fill_NaN.transform(customers_cleaned))\n",
    "imputed_customers.columns = customers_cleaned.columns\n",
    "imputed_customers.index = customers_cleaned.index\n",
    "\n",
    "scaled_customers = pd.DataFrame(standard_scaler.transform(imputed_customers))\n",
    "scaled_customers.columns = imputed_customers.columns\n",
    "scaled_customers.index = imputed_customers.index\n",
    "\n",
    "\n",
    "pca_customers = pd.DataFrame(pca_reducer.transform(scaled_customers))\n",
    "\n",
    "customer_labels = kmeans_model_23.predict(pca_customers)"
   ]
  },
  {
   "cell_type": "code",
   "execution_count": 67,
   "metadata": {},
   "outputs": [],
   "source": [
    "# check to see if customers_cleaned have same columns with azdias_clean\n",
    "cus_cols = list(customers_cleaned.columns)\n",
    "for col in list(azdias_clean.columns):\n",
    "    if(not (col in cus_cols)):\n",
    "        print(col)"
   ]
  },
  {
   "cell_type": "markdown",
   "metadata": {},
   "source": [
    "### Step 3.3: Compare Customer Data to Demographics Data\n",
    "\n",
    "At this point, you have clustered data based on demographics of the general population of Germany, and seen how the customer data for a mail-order sales company maps onto those demographic clusters. In this final substep, you will compare the two cluster distributions to see where the strongest customer base for the company is.\n",
    "\n",
    "Consider the proportion of persons in each cluster for the general population, and the proportions for the customers. If we think the company's customer base to be universal, then the cluster assignment proportions should be fairly similar between the two. If there are only particular segments of the population that are interested in the company's products, then we should see a mismatch from one to the other. If there is a higher proportion of persons in a cluster for the customer data compared to the general population (e.g. 5% of persons are assigned to a cluster for the general population, but 15% of the customer data is closest to that cluster's centroid) then that suggests the people in that cluster to be a target audience for the company. On the other hand, the proportion of the data in a cluster being larger in the general population than the customer data (e.g. only 2% of customers closest to a population centroid that captures 6% of the data) suggests that group of persons to be outside of the target demographics.\n",
    "\n",
    "Take a look at the following points in this step:\n",
    "\n",
    "- Compute the proportion of data points in each cluster for the general population and the customer data. Visualizations will be useful here: both for the individual dataset proportions, but also to visualize the ratios in cluster representation between groups. Seaborn's [`countplot()`](https://seaborn.pydata.org/generated/seaborn.countplot.html) or [`barplot()`](https://seaborn.pydata.org/generated/seaborn.barplot.html) function could be handy.\n",
    "  - Recall the analysis you performed in step 1.1.3 of the project, where you separated out certain data points from the dataset if they had more than a specified threshold of missing values. If you found that this group was qualitatively different from the main bulk of the data, you should treat this as an additional data cluster in this analysis. Make sure that you account for the number of data points in this subset, for both the general population and customer datasets, when making your computations!\n",
    "- Which cluster or clusters are overrepresented in the customer dataset compared to the general population? Select at least one such cluster and infer what kind of people might be represented by that cluster. Use the principal component interpretations from step 2.3 or look at additional components to help you make this inference. Alternatively, you can use the `.inverse_transform()` method of the PCA and StandardScaler objects to transform centroids back to the original data space and interpret the retrieved values directly.\n",
    "- Perform a similar investigation for the underrepresented clusters. Which cluster or clusters are underrepresented in the customer dataset compared to the general population, and what kinds of people are typified by these clusters?"
   ]
  },
  {
   "cell_type": "code",
   "execution_count": 68,
   "metadata": {},
   "outputs": [],
   "source": [
    "import scipy\n",
    "from scipy.stats import ks_2samp, mannwhitneyu"
   ]
  },
  {
   "cell_type": "code",
   "execution_count": 69,
   "metadata": {},
   "outputs": [
    {
     "data": {
      "image/png": "[encoded data removed]",
      "text/plain": [
       "<matplotlib.figure.Figure at 0x7f173d6dbef0>"
      ]
     },
     "metadata": {
      "needs_background": "light"
     },
     "output_type": "display_data"
    }
   ],
   "source": [
    "# Compare the proportion of data in each cluster for the customer data to the\n",
    "# proportion of data in each cluster for the general population.\n",
    "\n",
    "customer_labels_series = pd.Series(customer_labels, copy=True)\n",
    "n_people_customer = customer_labels_series.shape[0]\n",
    "customer_pred_group_per = (customer_labels_series.value_counts()/n_people_customer)\n",
    "customer_pred_group_per.sort_index(inplace=True)\n",
    "\n",
    "pop_labels_series = pd.Series(demographic_labels, copy=True)\n",
    "n_people_pop = pop_labels_series.shape[0]\n",
    "pop_pred_group_per = (pop_labels_series.value_counts()/n_people_pop)\n",
    "pop_pred_group_per.sort_index(inplace=True)\n",
    "\n",
    "f = plt.figure(figsize=(10,5))\n",
    "\n",
    "ax1 = f.add_subplot(1, 2, 1)\n",
    "ax1 = sns.barplot(x=customer_pred_group_per.index, y=customer_pred_group_per)\n",
    "ax1.set_xlabel(\"Customer Cluster\")\n",
    "ax1.set_ylabel(\"Percentage(%)\")\n",
    "ax1.set_title(\"Predicted Customer Cluster Percentage\")\n",
    "\n",
    "ax2 = f.add_subplot(1, 2, 2)\n",
    "ax2 = sns.barplot(x=pop_pred_group_per.index, y=pop_pred_group_per)\n",
    "ax2.set_xlabel(\"Demographic Cluster\")\n",
    "ax2.set_ylabel(\"Percentage(%)\")\n",
    "ax2.set_title(\"Germany Demographic Cluster Percentage\")\n",
    "\n",
    "\n",
    "plt.tight_layout()"
   ]
  },
  {
   "cell_type": "code",
   "execution_count": 70,
   "metadata": {},
   "outputs": [],
   "source": [
    "# f = plt.figure(figsize=(10,5))\n",
    "\n",
    "# ax1 = f.add_subplot(1, 2, 1)\n",
    "# ax1 = sns.countplot(x=customer_labels)\n",
    "# ax1.set_xlabel(\"Customer Group\")\n",
    "# ax1.set_title(\"Predicted Customer Groups\")\n",
    "\n",
    "# ax2 = f.add_subplot(1, 2, 2)\n",
    "# ax2 = sns.countplot(x=demographic_labels)\n",
    "# ax2.set_xlabel(\"Demographic Group\")\n",
    "# ax2.set_title(\"Germany Demographic Groups\")\n",
    "\n",
    "\n",
    "# plt.tight_layout()"
   ]
  },
  {
   "cell_type": "markdown",
   "metadata": {},
   "source": [
    "#### Convert Data Frame under PCA back to original version"
   ]
  },
  {
   "cell_type": "code",
   "execution_count": 195,
   "metadata": {
    "scrolled": true
   },
   "outputs": [],
   "source": [
    "def convert_back_to_orgi_df(df):\n",
    "    \n",
    "    target_cus_pca_df = df.copy()\n",
    "    \n",
    "    # Convert back to original data type PCA, Standard Scaler\n",
    "    target_cus_df = pd.DataFrame(pca_reducer.inverse_transform(target_cus_pca_df),\\\n",
    "                                 columns=scaled_customers.columns)\n",
    "\n",
    "    target_cus_imputed = pd.DataFrame(standard_scaler.inverse_transform(target_cus_df), \\\n",
    "                                columns=scaled_customers.columns)\n",
    "    \n",
    "    # Convert Ordinal and Dummies columns from float to int\n",
    "   \n",
    "    ordi_cols = feat_info[(feat_info['type'] == 'ordinal')]['attribute']\n",
    "    ordi_cols = list(ordi_cols)\n",
    "\n",
    "    azdias_pre_dummies = azdias_outlier_filtered.drop(labels = one_hot_columns, axis=1)\n",
    "    pre_dummies_cols = list(azdias_pre_dummies)\n",
    "    dummies_cols = [col for col in list(target_cus_imputed) if (not(col in pre_dummies_cols))]\n",
    "\n",
    "    need_convert_cols = ordi_cols + dummies_cols\n",
    "    \n",
    "    def convert_col_to_int(df, col_name):\n",
    "        df[col_name] = df[col_name].apply(int)\n",
    "        # Because they are ordinal and dummies column\n",
    "        # Hence all value has to be positive\n",
    "        df[col_name] = df[col_name].apply(abs)\n",
    "\n",
    "    for col_name in need_convert_cols:\n",
    "        convert_col_to_int(target_cus_imputed, col_name)\n",
    "        \n",
    "    return target_cus_imputed"
   ]
  },
  {
   "cell_type": "markdown",
   "metadata": {},
   "source": [
    "#### Calculating percentage of ordinal and dummies columns\n",
    "- Catch out any columns which has an element that dominate more than 50% distribution of that column\n",
    "- Put all calculation to new data frame: over_represent_df"
   ]
  },
  {
   "cell_type": "code",
   "execution_count": 141,
   "metadata": {},
   "outputs": [],
   "source": [
    "def catch_spcecial_from_df(df):\n",
    "    \n",
    "    target_cus_imputed = df.copy()\n",
    "    \n",
    "    def catch_special_col(col_name, n_rows, target_cus_imputed):\n",
    "        element_per = target_cus_imputed[col_name].value_counts() / n_rows\n",
    "        element_per.sort_values(ascending=False, inplace=True)\n",
    "        element_per_list = list(element_per)\n",
    "        highest_per = element_per_list[0]\n",
    "\n",
    "        if (len(element_per_list) == 2):\n",
    "            highest_per = sum(element_per_list) / n_rows\n",
    "\n",
    "        if (highest_per >= 0.5 and len(element_per_list) > 2):\n",
    "            return True, element_per, highest_per\n",
    "        else:\n",
    "            return False, element_per, highest_per\n",
    "\n",
    "    n_rows = target_cus_imputed.shape[0]\n",
    "    spec_cols = []\n",
    "    element_pers = []\n",
    "    highest_pers = []\n",
    "\n",
    "    for col_name in need_convert_cols:\n",
    "        isSpecial, element_per, highest_per = catch_special_col(col_name, n_rows, target_cus_imputed)\n",
    "        if(isSpecial):\n",
    "            spec_cols.append(col_name)\n",
    "            element_pers.append(element_per)\n",
    "            highest_pers.append(highest_per)\n",
    "            \n",
    "    return spec_cols, element_pers, highest_pers"
   ]
  },
  {
   "cell_type": "markdown",
   "metadata": {},
   "source": [
    "#### Over Represent Group of Customer Cluster"
   ]
  },
  {
   "cell_type": "code",
   "execution_count": 142,
   "metadata": {},
   "outputs": [
    {
     "data": {
      "text/html": [
       "<div>\n",
       "<style scoped>\n",
       "    .dataframe tbody tr th:only-of-type {\n",
       "        vertical-align: middle;\n",
       "    }\n",
       "\n",
       "    .dataframe tbody tr th {\n",
       "        vertical-align: top;\n",
       "    }\n",
       "\n",
       "    .dataframe thead th {\n",
       "        text-align: right;\n",
       "    }\n",
       "</style>\n",
       "<table border=\"1\" class=\"dataframe\">\n",
       "  <thead>\n",
       "    <tr style=\"text-align: right;\">\n",
       "      <th></th>\n",
       "      <th>SPECIAL_COLUMNS</th>\n",
       "      <th>DETAILED_PER</th>\n",
       "      <th>HIGHEST_PER</th>\n",
       "    </tr>\n",
       "  </thead>\n",
       "  <tbody>\n",
       "    <tr>\n",
       "      <th>0</th>\n",
       "      <td>ALTERSKATEGORIE_GROB</td>\n",
       "      <td>3    0.624425\n",
       "4    0.199400\n",
       "2    0.159114\n",
       "1   ...</td>\n",
       "      <td>0.624425</td>\n",
       "    </tr>\n",
       "    <tr>\n",
       "      <th>1</th>\n",
       "      <td>FINANZ_MINIMALIST</td>\n",
       "      <td>5    0.503899\n",
       "4    0.482073\n",
       "3    0.013829\n",
       "2   ...</td>\n",
       "      <td>0.503899</td>\n",
       "    </tr>\n",
       "    <tr>\n",
       "      <th>2</th>\n",
       "      <td>FINANZ_VORSORGER</td>\n",
       "      <td>5    0.519527\n",
       "4    0.351783\n",
       "3    0.089470\n",
       "1   ...</td>\n",
       "      <td>0.519527</td>\n",
       "    </tr>\n",
       "    <tr>\n",
       "      <th>3</th>\n",
       "      <td>FINANZ_ANLEGER</td>\n",
       "      <td>0    0.548017\n",
       "1    0.315128\n",
       "2    0.105565\n",
       "3   ...</td>\n",
       "      <td>0.548017</td>\n",
       "    </tr>\n",
       "    <tr>\n",
       "      <th>4</th>\n",
       "      <td>FINANZ_UNAUFFAELLIGER</td>\n",
       "      <td>1    0.673809\n",
       "2    0.242286\n",
       "0    0.040453\n",
       "4   ...</td>\n",
       "      <td>0.673809</td>\n",
       "    </tr>\n",
       "  </tbody>\n",
       "</table>\n",
       "</div>"
      ],
      "text/plain": [
       "         SPECIAL_COLUMNS                                       DETAILED_PER  \\\n",
       "0   ALTERSKATEGORIE_GROB  3    0.624425\n",
       "4    0.199400\n",
       "2    0.159114\n",
       "1   ...   \n",
       "1      FINANZ_MINIMALIST  5    0.503899\n",
       "4    0.482073\n",
       "3    0.013829\n",
       "2   ...   \n",
       "2       FINANZ_VORSORGER  5    0.519527\n",
       "4    0.351783\n",
       "3    0.089470\n",
       "1   ...   \n",
       "3         FINANZ_ANLEGER  0    0.548017\n",
       "1    0.315128\n",
       "2    0.105565\n",
       "3   ...   \n",
       "4  FINANZ_UNAUFFAELLIGER  1    0.673809\n",
       "2    0.242286\n",
       "0    0.040453\n",
       "4   ...   \n",
       "\n",
       "   HIGHEST_PER  \n",
       "0     0.624425  \n",
       "1     0.503899  \n",
       "2     0.519527  \n",
       "3     0.548017  \n",
       "4     0.673809  "
      ]
     },
     "execution_count": 142,
     "metadata": {},
     "output_type": "execute_result"
    }
   ],
   "source": [
    "# What kinds of people are part of a cluster that is overrepresented in the\n",
    "# customer data compared to the general population?\n",
    "\n",
    "# Clearly that customer cluster label 11 is overrepresented in Customer Cluster data\n",
    "over_represent_cus_group = 11\n",
    "\n",
    "# Retrieve information of cluster_11 from Customer Cluster\n",
    "target_cus_pca_df = pca_customers[customer_labels == over_represent_cus_group]\n",
    "target_cus_imputed = convert_back_to_orgi_df(target_cus_pca_df)\n",
    "tar_spec_cols, tar_element_pers, tar_highest_pers = catch_spcecial_from_df(target_cus_imputed)\n",
    "\n",
    "over_represent_df = pd.DataFrame(data=list(zip(tar_spec_cols, tar_element_pers, tar_highest_pers)))\n",
    "over_represent_df.columns = ['SPECIAL_COLUMNS', 'DETAILED_PER', 'HIGHEST_PER']\n",
    "over_represent_df.head()"
   ]
  },
  {
   "cell_type": "markdown",
   "metadata": {},
   "source": [
    "#### Over Reprensent Customer Have Some Needed Notice Columns"
   ]
  },
  {
   "cell_type": "code",
   "execution_count": 148,
   "metadata": {},
   "outputs": [],
   "source": [
    "# Top 5 Special Columns from over_represent_df\n",
    "top_5_over_lis = over_represent_df.sort_values(by = 'HIGHEST_PER', ascending=False)['SPECIAL_COLUMNS'][:5]\n",
    "detailed_top_5_over_lis = list(over_represent_df[over_represent_df['SPECIAL_COLUMNS'].isin(top_5_over_lis)]['DETAILED_PER'])"
   ]
  },
  {
   "cell_type": "code",
   "execution_count": 149,
   "metadata": {},
   "outputs": [
    {
     "data": {
      "text/plain": [
       "8     0.695801\n",
       "9     0.257314\n",
       "7     0.033322\n",
       "6     0.010430\n",
       "5     0.002499\n",
       "10    0.000566\n",
       "4     0.000067\n",
       "Name: WOHNDAUER_2008, dtype: float64"
      ]
     },
     "execution_count": 149,
     "metadata": {},
     "output_type": "execute_result"
    }
   ],
   "source": [
    "detailed_top_5_over_lis[0]"
   ]
  },
  {
   "cell_type": "code",
   "execution_count": 150,
   "metadata": {},
   "outputs": [
    {
     "data": {
      "text/plain": [
       "0    0.987038\n",
       "1    0.012296\n",
       "2    0.000600\n",
       "3    0.000067\n",
       "Name: KBA05_ANTG3, dtype: float64"
      ]
     },
     "execution_count": 150,
     "metadata": {},
     "output_type": "execute_result"
    }
   ],
   "source": [
    "detailed_top_5_over_lis[1]"
   ]
  },
  {
   "cell_type": "code",
   "execution_count": 151,
   "metadata": {},
   "outputs": [
    {
     "data": {
      "text/plain": [
       "4    0.713496\n",
       "3    0.281473\n",
       "2    0.003032\n",
       "5    0.001666\n",
       "1    0.000333\n",
       "Name: KBA05_GBZ, dtype: float64"
      ]
     },
     "execution_count": 151,
     "metadata": {},
     "output_type": "execute_result"
    }
   ],
   "source": [
    "detailed_top_5_over_lis[2]"
   ]
  },
  {
   "cell_type": "code",
   "execution_count": 152,
   "metadata": {},
   "outputs": [
    {
     "data": {
      "text/plain": [
       "4    0.710063\n",
       "3    0.261879\n",
       "5    0.020593\n",
       "2    0.007164\n",
       "1    0.000300\n",
       "Name: MOBI_REGIO, dtype: float64"
      ]
     },
     "execution_count": 152,
     "metadata": {},
     "output_type": "execute_result"
    }
   ],
   "source": [
    "detailed_top_5_over_lis[3]"
   ]
  },
  {
   "cell_type": "code",
   "execution_count": 153,
   "metadata": {},
   "outputs": [
    {
     "data": {
      "text/plain": [
       "0    0.955681\n",
       "1    0.044285\n",
       "2    0.000033\n",
       "Name: PLZ8_ANTG4, dtype: float64"
      ]
     },
     "execution_count": 153,
     "metadata": {},
     "output_type": "execute_result"
    }
   ],
   "source": [
    "detailed_top_5_over_lis[4]"
   ]
  },
  {
   "cell_type": "markdown",
   "metadata": {},
   "source": [
    "#### Under Represent Group of Customer Cluster"
   ]
  },
  {
   "cell_type": "code",
   "execution_count": 196,
   "metadata": {},
   "outputs": [
    {
     "data": {
      "text/html": [
       "<div>\n",
       "<style scoped>\n",
       "    .dataframe tbody tr th:only-of-type {\n",
       "        vertical-align: middle;\n",
       "    }\n",
       "\n",
       "    .dataframe tbody tr th {\n",
       "        vertical-align: top;\n",
       "    }\n",
       "\n",
       "    .dataframe thead th {\n",
       "        text-align: right;\n",
       "    }\n",
       "</style>\n",
       "<table border=\"1\" class=\"dataframe\">\n",
       "  <thead>\n",
       "    <tr style=\"text-align: right;\">\n",
       "      <th></th>\n",
       "      <th>SPECIAL_COLUMNS</th>\n",
       "      <th>DETAILED_PER</th>\n",
       "      <th>HIGHEST_PER</th>\n",
       "    </tr>\n",
       "  </thead>\n",
       "  <tbody>\n",
       "    <tr>\n",
       "      <th>0</th>\n",
       "      <td>HEALTH_TYP</td>\n",
       "      <td>2    0.550725\n",
       "1    0.384058\n",
       "3    0.043478\n",
       "0   ...</td>\n",
       "      <td>0.550725</td>\n",
       "    </tr>\n",
       "    <tr>\n",
       "      <th>1</th>\n",
       "      <td>W_KEIT_KIND_HH</td>\n",
       "      <td>0    0.594203\n",
       "1    0.355072\n",
       "2    0.043478\n",
       "3   ...</td>\n",
       "      <td>0.594203</td>\n",
       "    </tr>\n",
       "    <tr>\n",
       "      <th>2</th>\n",
       "      <td>KBA05_ANTG2</td>\n",
       "      <td>0    0.514493\n",
       "1    0.253623\n",
       "2    0.166667\n",
       "3   ...</td>\n",
       "      <td>0.514493</td>\n",
       "    </tr>\n",
       "    <tr>\n",
       "      <th>3</th>\n",
       "      <td>KBA05_ANTG3</td>\n",
       "      <td>0    0.804348\n",
       "1    0.130435\n",
       "2    0.065217\n",
       "Name...</td>\n",
       "      <td>0.804348</td>\n",
       "    </tr>\n",
       "    <tr>\n",
       "      <th>4</th>\n",
       "      <td>ONLINE_AFFINITAET</td>\n",
       "      <td>4    0.500000\n",
       "3    0.340580\n",
       "2    0.079710\n",
       "5   ...</td>\n",
       "      <td>0.500000</td>\n",
       "    </tr>\n",
       "  </tbody>\n",
       "</table>\n",
       "</div>"
      ],
      "text/plain": [
       "     SPECIAL_COLUMNS                                       DETAILED_PER  \\\n",
       "0         HEALTH_TYP  2    0.550725\n",
       "1    0.384058\n",
       "3    0.043478\n",
       "0   ...   \n",
       "1     W_KEIT_KIND_HH  0    0.594203\n",
       "1    0.355072\n",
       "2    0.043478\n",
       "3   ...   \n",
       "2        KBA05_ANTG2  0    0.514493\n",
       "1    0.253623\n",
       "2    0.166667\n",
       "3   ...   \n",
       "3        KBA05_ANTG3  0    0.804348\n",
       "1    0.130435\n",
       "2    0.065217\n",
       "Name...   \n",
       "4  ONLINE_AFFINITAET  4    0.500000\n",
       "3    0.340580\n",
       "2    0.079710\n",
       "5   ...   \n",
       "\n",
       "   HIGHEST_PER  \n",
       "0     0.550725  \n",
       "1     0.594203  \n",
       "2     0.514493  \n",
       "3     0.804348  \n",
       "4     0.500000  "
      ]
     },
     "execution_count": 196,
     "metadata": {},
     "output_type": "execute_result"
    }
   ],
   "source": [
    "# What kinds of people are part of a cluster that is underrepresented in the\n",
    "# customer data compared to the general population?\n",
    "\n",
    "# Clearly that customer cluster label 17 is overrepresented in Customer Cluster data\n",
    "under_represent_cus_group = 17\n",
    "\n",
    "# Retrieve information of cluster_17 from Demographic Cluster\n",
    "under_cus_pca_df = pca_customers[customer_labels == under_represent_cus_group]\n",
    "under_cus_imputed = convert_back_to_orgi_df(under_cus_pca_df)\n",
    "\n",
    "und_spec_cols, und_element_pers, und_highest_pers = catch_spcecial_from_df(under_cus_imputed)\n",
    "\n",
    "under_represent_df = pd.DataFrame(data=list(zip(und_spec_cols, und_element_pers, und_highest_pers)))\n",
    "under_represent_df.columns = ['SPECIAL_COLUMNS', 'DETAILED_PER', 'HIGHEST_PER']\n",
    "under_represent_df.head()"
   ]
  },
  {
   "cell_type": "markdown",
   "metadata": {},
   "source": [
    "#### Under Reprensent Customer Have Some Needed Notice Columns"
   ]
  },
  {
   "cell_type": "code",
   "execution_count": 222,
   "metadata": {},
   "outputs": [],
   "source": [
    "# Top 5 Special Columns from over_represent_df\n",
    "top_5_under_lis = under_represent_df.sort_values(by = 'HIGHEST_PER', ascending=False)['SPECIAL_COLUMNS'][:5]\n",
    "detailed_top_5_under_lis = list(under_represent_df[under_represent_df['SPECIAL_COLUMNS'].isin(top_5_under_lis)]\\\n",
    "                               ['DETAILED_PER']).copy()"
   ]
  },
  {
   "cell_type": "code",
   "execution_count": 209,
   "metadata": {},
   "outputs": [
    {
     "data": {
      "text/plain": [
       "2    0.550725\n",
       "1    0.384058\n",
       "3    0.043478\n",
       "0    0.021739\n",
       "Name: HEALTH_TYP, dtype: float64"
      ]
     },
     "execution_count": 209,
     "metadata": {},
     "output_type": "execute_result"
    }
   ],
   "source": [
    "detailed_top_5_under_lis[0]"
   ]
  },
  {
   "cell_type": "code",
   "execution_count": 227,
   "metadata": {},
   "outputs": [
    {
     "data": {
      "text/plain": [
       "1    0.949275\n",
       "2    0.043478\n",
       "3    0.007246\n",
       "Name: W_KEIT_KIND_HH, dtype: float64"
      ]
     },
     "execution_count": 227,
     "metadata": {},
     "output_type": "execute_result"
    }
   ],
   "source": [
    "# Because W_KEIT_KIND_HH could not have 0 as member\n",
    "# Hence add up percentage of 0 to 1\n",
    "# detailed_top_5_under_lis[1][1] = detailed_top_5_under_lis[1][0] + detailed_top_5_under_lis[1][1]\n",
    "\n",
    "detailed_top_5_under_lis[1].drop(0)"
   ]
  },
  {
   "cell_type": "code",
   "execution_count": 228,
   "metadata": {},
   "outputs": [
    {
     "data": {
      "text/plain": [
       "0    0.514493\n",
       "1    0.253623\n",
       "2    0.166667\n",
       "3    0.050725\n",
       "4    0.014493\n",
       "Name: KBA05_ANTG2, dtype: float64"
      ]
     },
     "execution_count": 228,
     "metadata": {},
     "output_type": "execute_result"
    }
   ],
   "source": [
    "detailed_top_5_under_lis[2]"
   ]
  },
  {
   "cell_type": "code",
   "execution_count": 229,
   "metadata": {},
   "outputs": [
    {
     "data": {
      "text/plain": [
       "0    0.804348\n",
       "1    0.130435\n",
       "2    0.065217\n",
       "Name: KBA05_ANTG3, dtype: float64"
      ]
     },
     "execution_count": 229,
     "metadata": {},
     "output_type": "execute_result"
    }
   ],
   "source": [
    "detailed_top_5_under_lis[3]"
   ]
  },
  {
   "cell_type": "code",
   "execution_count": 230,
   "metadata": {},
   "outputs": [
    {
     "data": {
      "text/plain": [
       "0    0.739130\n",
       "1    0.246377\n",
       "2    0.014493\n",
       "Name: PLZ8_ANTG4, dtype: float64"
      ]
     },
     "execution_count": 230,
     "metadata": {},
     "output_type": "execute_result"
    }
   ],
   "source": [
    "detailed_top_5_under_lis[4]"
   ]
  },
  {
   "cell_type": "markdown",
   "metadata": {},
   "source": [
    "### Discussion 3.3: Compare Customer Data to Demographics Data\n",
    "\n",
    "(Double-click this cell and replace this text with your own text, reporting findings and conclusions from the clustering analysis. Can we describe segments of the population that are relatively popular with the mail-order company, or relatively unpopular with the company?)\n",
    "\n",
    "**Overresent Customer:**\n",
    "\n",
    "- Cluster Number: 11\n",
    "- Spcecials:\n",
    "\n",
    "    <ol>\n",
    "\n",
    "    <li>'WOHNDAUER_2008': Length of Residency, detailed_top_5_over_lis[0] </li>\n",
    "    \n",
    "        - 70% has length of residence 7-10 years\n",
    "        - 25% has length of residence more than 10 years\n",
    "        \n",
    "    <li>'KBA05_ANTG3': Number of 6-10 family houses in the microcell, detailed_top_5_over_lis[1]: </li>\n",
    "    \n",
    "        - 98.7% no 6-10 family homes\n",
    "        \n",
    "    <li>'KBA05_GBZ', Number of buildings in the microcell, detailed_top_5_over_lis[2]: </li>\n",
    "    \n",
    "        - 71% 17-22 buildings\n",
    "        - 28% 5-16 buildings\n",
    "       \n",
    "    <li>'MOBI_REGIO', Movement patterns, detailed_top_5_over_lis[3] </li>\n",
    "    \n",
    "        - 71% low movement\n",
    "        - 26% middle movement\n",
    "        \n",
    "    <li>'PLZ8_ANTG4', Number of 10+ family houses in the PLZ8 region ,detailed_top_5_over_lis[4] </li>\n",
    "        \n",
    "        - 95.5% no 10+ family homes\n",
    "    </ol>\n",
    "    \n",
    "    \n",
    "**Underrepresent Customer:**\n",
    "\n",
    "- Cluster Number: 17\n",
    "- Spcecials:\n",
    "\n",
    "    <ol>\n",
    "\n",
    "    <li>'HEALTH_TYP': Health typology, detailed_top_5_under_lis[0] </li>\n",
    "    \n",
    "        - 55% sanitary affine\n",
    "        - 38% critical reserved\n",
    "        \n",
    "    <li>'W_KEIT_KIND_HH': Likelihood of children in household, detailed_top_5_under_lis[1]: </li>\n",
    "    \n",
    "        - 95% most likely\n",
    "        \n",
    "    <li>'KBA05_ANTG2', Number of 3-5 family houses in the microcell, detailed_top_5_under_lis[2]: </li>\n",
    "    \n",
    "        - 51% no 3-5 family homes\n",
    "        - 25% lower share of 3-5 family homes\n",
    "        - 16% average share of 3-5 family homes\n",
    "       \n",
    "    <li>'KBA05_ANTG3', Number of 6-10 family houses in the microcell, detailed_top_5_under_lis[3] </li>\n",
    "    \n",
    "        - 80% no 6-10 family homes\n",
    "        - 13% lower share of 6-10 family homes\n",
    "        \n",
    "    <li>'PLZ8_ANTG4', Number of 10+ family houses in the PLZ8 region ,detailed_top_5_under_lis[4] </li>\n",
    "        \n",
    "        - 74% no 10+ family homes\n",
    "        - 25% lower share of 10+ family homes\n",
    "    </ol>\n",
    "\n",
    "\n",
    "\n",
    "\n",
    "\n",
    "\n",
    "\n"
   ]
  },
  {
   "cell_type": "markdown",
   "metadata": {},
   "source": [
    "> Congratulations on making it this far in the project! Before you finish, make sure to check through the entire notebook from top to bottom to make sure that your analysis follows a logical flow and all of your findings are documented in **Discussion** cells. Once you've checked over all of your work, you should export the notebook as an HTML document to submit for evaluation. You can do this from the menu, navigating to **File -> Download as -> HTML (.html)**. You will submit both that document and this notebook for your project submission."
   ]
  },
  {
   "cell_type": "code",
   "execution_count": null,
   "metadata": {},
   "outputs": [],
   "source": []
  }
 ],
 "metadata": {
  "kernelspec": {
   "display_name": "Python 3",
   "language": "python",
   "name": "python3"
  },
  "language_info": {
   "codemirror_mode": {
    "name": "ipython",
    "version": 3
   },
   "file_extension": ".py",
   "mimetype": "text/x-python",
   "name": "python",
   "nbconvert_exporter": "python",
   "pygments_lexer": "ipython3",
   "version": "3.6.3"
  }
 },
 "nbformat": 4,
 "nbformat_minor": 2
}
